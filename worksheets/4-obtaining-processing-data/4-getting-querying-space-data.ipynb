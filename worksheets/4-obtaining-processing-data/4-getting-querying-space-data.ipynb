{
 "cells": [
  {
   "cell_type": "markdown",
   "metadata": {},
   "source": [
    "# Worksheet 4: I Just Need Some Space\n",
    "In this worksheet, you will practice how to access data using functions. You will also experiment with plotting and text processing. Also, *space!*"
   ]
  },
  {
   "cell_type": "markdown",
   "metadata": {},
   "source": [
    "## 0. Install Astroquery\n",
    "\n",
    "We'll be using a code library called Astroquery. The Astroquery library is used to retrieve information from astronomical archives. It is likely that the library is not currently on your machine. Let's fix that. Open up a terminal, and run `pip install astroquery`.\n",
    "\n",
    "You should see a bunch of lines print out very quickly. Just look at the last few lines - does it say something like \"error\" or \"failure\"? If yes, ask an instructor for help. If no, you are set.\n",
    "\n",
    "Each time you start or restart your notebook, you should run the following cell to import all of the necessary libraries and set the relevant configurations."
   ]
  },
  {
   "cell_type": "code",
   "execution_count": null,
   "metadata": {},
   "outputs": [],
   "source": [
    "# Reload code from other files as they are updated.\n",
    "%load_ext autoreload\n",
    "%autoreload 2\n",
    "\n",
    "# Show plots directly in this notebook.\n",
    "%matplotlib inline\n",
    "\n",
    "# Import the libraries we use in this worksheet.\n",
    "from astroquery.jplhorizons import Horizons\n",
    "import matplotlib.pyplot as plt\n",
    "import pandas as pd"
   ]
  },
  {
   "cell_type": "markdown",
   "metadata": {},
   "source": [
    "## 1a. Practice using functions\n",
    "Let's practice using this library. Because this is a worksheet, we will walk you through the steps. If you have questions, please take a look at [the documentation.](https://astroquery.readthedocs.io/en/latest/jplhorizons/jplhorizons.html) The specific Astroquery tool we will be using is called JPL Horizons. \n",
    "\n",
    "This accesses a service called Horizons, run out of NASA's Jet Propulsion Laboratory. This is an incredible free service that provides (among other things) the positions of every known thing in our solar system. (After class, if you would like, you may optionally listen to Carrie Nugent [talking to the guy](https://www.listentospacepod.com/episodes/2016/6/12/episode-49-every-known-object-in-the-solar-system-with-jon-giorgini?rq=giorgini) who made Horizons). Horizons has been used to solve problems like \"Can I figure out when this painting was painted by the position of the stars?\" \n",
    "\n",
    "Today, we will ask Horizons, via the Astroquery library, to give us the positions of things. Let's first ask it for the x, y, and z positions of Earth over a specific time range. To do this, run the following cell:"
   ]
  },
  {
   "cell_type": "code",
   "execution_count": null,
   "metadata": {},
   "outputs": [],
   "source": [
    "earth = Horizons(id=\"399\", location=\"@0\", id_type=\"id\",\n",
    "                 epochs={\"start\": \"2020-07-31\", \"stop\": \"2021-02-18\",\n",
    "                         \"step\": \"1d\"})\n",
    "\n",
    "# Extract just the vectors from the information retrieved \n",
    "earth_xyz = earth.vectors()"
   ]
  },
  {
   "cell_type": "markdown",
   "metadata": {},
   "source": [
    "What did this code do? It asked for the location of Earth (Horizons calls Earth \"399\") relative to the Solar System Barycenter (aka `location=\"@0\"`). That is the center of mass of the Solar System, which is almost, but not quite, the location of the Sun. You asked for its location between July 30th, 2020 and February 18th, 2021, in intervals of 1 day. Then you saved the vector as `earth_xyz`. These values are in Astronomical Units, which is the average distance from the Earth to the Sun.\n",
    "\n",
    "As a note, this code was not intended to be intuitive - you probably could have figured some of it out, but you mostly would have had to read the documentation. The above explanation is intended to save you some time reading documentation so you can practice other skills with your time.\n",
    "\n",
    "Now, let's take a look at one of these columns by running the cell below:"
   ]
  },
  {
   "cell_type": "code",
   "execution_count": null,
   "metadata": {},
   "outputs": [],
   "source": [
    "earth_xyz['x']"
   ]
  },
  {
   "cell_type": "markdown",
   "metadata": {},
   "source": [
    "## 1b. Practice Plotting\n",
    "\n",
    "Now, let's try to plot Earth's path around the sun, for the time range we queried. Run the following cell:"
   ]
  },
  {
   "cell_type": "code",
   "execution_count": null,
   "metadata": {},
   "outputs": [],
   "source": [
    "# Define our plot, which consists of a figure and axis.\n",
    "fig = plt.figure()\n",
    "ax = fig.add_subplot(111)\n",
    "\n",
    "# Run this cell without uncommenting any of the below commands.\n",
    "# Then uncomment the below one by one, re-running this cell each time.\n",
    "# See what happens!\n",
    "\n",
    "#plt.axis(\"square\")\n",
    "#plt.xlim(-1.2, 1.2)\n",
    "#plt.ylim(-1.2, 1.2)\n",
    "#plt.xlabel(\"Distance (AU)\")\n",
    "#plt.ylabel(\"Distance (AU)\")\n",
    "\n",
    "#plot and show\n",
    "plt.scatter(earth_xyz[\"x\"], earth_xyz[\"y\"], marker=\".\")\n",
    "plt.show()"
   ]
  },
  {
   "cell_type": "markdown",
   "metadata": {},
   "source": [
    "### Direction\n",
    "Let's make one more change to the graph. In the cell below, please again plot Earth's path around the Sun. But this time, use the code:\n",
    "\n",
    "```python\n",
    "color_time = range(len(earth_xyz[\"x\"]))\n",
    "```\n",
    "\n",
    "This defines a list that is as long as `earth_xyz[\"x\"]`.\n",
    "\n",
    "Then, replace your plot command with\n",
    "\n",
    "```python\n",
    "plt.scatter(earth_xyz[\"x\"],earth_xyz[\"y\"], c=color_time, marker=\".\",\n",
    "            cmap=\"winter\")\n",
    "```\n",
    "\n",
    "This uses the Winter colormap to show directionality. Earlier points will be blue, later points will be green. You can see and choose [more colormaps here](https://matplotlib.org/stable/tutorials/colors/colormaps.html). Feel free to experiment!"
   ]
  },
  {
   "cell_type": "markdown",
   "metadata": {},
   "source": [
    "*Solution*"
   ]
  },
  {
   "cell_type": "code",
   "execution_count": null,
   "metadata": {},
   "outputs": [],
   "source": []
  },
  {
   "cell_type": "markdown",
   "metadata": {},
   "source": [
    "## 1c. Add Mars!\n",
    "\n",
    "Great! Now you've plotted Earth's path around the sun. In the code box below, repeat the process, except for Mars (`id=\"499\"`). Use the same date range when querying Horizons. Plot the positions of Mars in the same plot as Earth. You'll want to include two lines of code something like this:\n",
    "\n",
    "```python\n",
    "plt.scatter(earth_xyz[\"x\"], earth_xyz[\"y\"], c=color_time, marker=\".\"',\n",
    "            cmap=\"winter\")\n",
    "plt.scatter(mars_xyz[\"x\"], mars_xyz[\"y\"], c=color_time, marker=\".\",\n",
    "            cmap=\"spring\")\n",
    "```\n",
    "\n",
    "*Hint*: Mars has a bigger orbit than Earth, so you will need to adjust your graph accordingly."
   ]
  },
  {
   "cell_type": "markdown",
   "metadata": {},
   "source": [
    "*Solution*"
   ]
  },
  {
   "cell_type": "code",
   "execution_count": null,
   "metadata": {},
   "outputs": [],
   "source": []
  },
  {
   "cell_type": "markdown",
   "metadata": {},
   "source": [
    "## 1d. Mystery object\n",
    "Great! Now add one more mystery thing. Query horizons for something with `id=\"-168\"` over the same date range. Plot it next to Mars and Earth. Pick a new colormap."
   ]
  },
  {
   "cell_type": "markdown",
   "metadata": {},
   "source": [
    "*Solution*"
   ]
  },
  {
   "cell_type": "code",
   "execution_count": null,
   "metadata": {},
   "outputs": [],
   "source": []
  },
  {
   "cell_type": "markdown",
   "metadata": {},
   "source": [
    "## 1e. Follow up questions\n",
    "- Given the object's path, and the date range it traveled, can you figure out what it is?\n",
    "- Try querying horizons for the mystery object, but on 2020-07-30. What happens? Why?\n",
    "Write your answers below."
   ]
  },
  {
   "cell_type": "markdown",
   "metadata": {},
   "source": [
    "*Solution*\n"
   ]
  },
  {
   "cell_type": "markdown",
   "metadata": {},
   "source": [
    "## 2. Reading In Data\n",
    "\n",
    "It is useful to be able to read in and manipulate data. There are many ways to do this in Python, and all have their advantages. In this example, we've chosen to use [Pandas](https://www.youtube.com/watch?v=4NJlUribp3c) for this example. Please see the [course website](https://softdes.olin.edu/docs/readings/web-data/#pandas-data-in-tables) for more information on Pandas.\n",
    "\n",
    "We'll show you how to read in and manipulate data in a file, and then you'll give it a try using another file.\n",
    "\n",
    "We will start with a record of fireballs (asteroids that burned up in the atmosphere) that released more than 3 kilotons of energy. 3 kilotons of energy is a lot, so this gives us just the largest fireballs on record. The data is from the [Center for Near Earth Object Studies](https://cneos.jpl.nasa.gov/fireballs/). We've provided this data for you in `cneos_fireball_data.csv`. \n",
    "\n",
    "Please open up this file in a text editor. The filetype `.csv` stands for \"comma-separated values\", so you'll see data seperated by commas (`,`). When reading in text, it's helpful to take a peek first using a text editor, as long as the file is reasonably sized (less than 100 MB or so).\n",
    "\n",
    "Run the following cell to read in the data:"
   ]
  },
  {
   "cell_type": "code",
   "execution_count": null,
   "metadata": {},
   "outputs": [],
   "source": [
    "fireball_dataframe = pd.read_csv(\"cneos_fireball_data.csv\")"
   ]
  },
  {
   "cell_type": "markdown",
   "metadata": {},
   "source": [
    "Now run the following cell to peek at the data."
   ]
  },
  {
   "cell_type": "code",
   "execution_count": null,
   "metadata": {},
   "outputs": [],
   "source": [
    "print(fireball_dataframe.head(5))"
   ]
  },
  {
   "cell_type": "markdown",
   "metadata": {},
   "source": [
    "You'll notice that units are included in the columns. J is jules, deg. is degrees, and UT is [Universal Time](https://en.wikipedia.org/wiki/Universal_Time).\n",
    "\n",
    "Run the following cell to get one column of data, and try changing the column name to get different columns."
   ]
  },
  {
   "cell_type": "code",
   "execution_count": null,
   "metadata": {},
   "outputs": [],
   "source": [
    "column_name = \"Altitude_(km)\"\n",
    "print(fireball_dataframe[column_name])"
   ]
  },
  {
   "cell_type": "markdown",
   "metadata": {},
   "source": [
    "Now, we can use Pandas to start answering questions. For example, when was the largest impact?"
   ]
  },
  {
   "cell_type": "code",
   "execution_count": null,
   "metadata": {},
   "outputs": [],
   "source": [
    "max(fireball_dataframe[\"Calculated_Total_Impact_Energy_(kt)\"])"
   ]
  },
  {
   "cell_type": "markdown",
   "metadata": {},
   "source": [
    "Great! Now let's ask Pandas which row of column `Calculated_Total_Impact_Energy_(kt)` has the greatest value. We will use `idxmax`, which is a function specific to Pandas that gives the highest value in a column. If we wanted the minimum, we'd use a function called `idxmin` instead. \n",
    " \n",
    "The syntax here might look a little different than other ways of running functions that you've seen in this course. Specifically, it follows the format `dataframe[\"column_name\"].function()`. We will get to this later in the course, but for now, you can think of this as running `idxmax()` using information in `dataframe[\"column_name\"]` as an argument.\n",
    "\n",
    "Now run the following cell to find the row with the highest calculated total impact energy."
   ]
  },
  {
   "cell_type": "code",
   "execution_count": null,
   "metadata": {},
   "outputs": [],
   "source": [
    "fireball_dataframe['Calculated_Total_Impact_Energy_(kt)'].idxmax()"
   ]
  },
  {
   "cell_type": "markdown",
   "metadata": {},
   "source": [
    "Finally, we'll ask Pandas what date corresponds with row 10."
   ]
  },
  {
   "cell_type": "code",
   "execution_count": null,
   "metadata": {},
   "outputs": [],
   "source": [
    "fireball_dataframe['Peak_Brightness_Date/Time_(UT)'][10]"
   ]
  },
  {
   "cell_type": "markdown",
   "metadata": {},
   "source": [
    "Neat! That day was the [Chelyabinsk Meteor impact](https://en.wikipedia.org/wiki/Chelyabinsk_meteor). Carrie Nugent has a piece of it that she'll show you if you ask!\n",
    "\n",
    "## 3. Your Turn!\n",
    "\n",
    "In the code cell that follows, write code to read in the text file `cneos_closeapproach_data.csv` using Pandas. This is also from the [CNEOS website](https://cneos.jpl.nasa.gov/ca/). It is all the close approaches of asteroids in the next 30 days.\n",
    "\n",
    "*Solution*"
   ]
  },
  {
   "cell_type": "code",
   "execution_count": null,
   "metadata": {},
   "outputs": [],
   "source": [
    "# Solution code here"
   ]
  },
  {
   "cell_type": "markdown",
   "metadata": {},
   "source": [
    "Which object comes the closest to Earth? For this, you want Close Approach (CA) Distance in LD (Lunar Distances, the distance between the Earth and the Moon). Write your answer in the Markdown cell below."
   ]
  },
  {
   "cell_type": "markdown",
   "metadata": {},
   "source": [
    "*Solution*"
   ]
  },
  {
   "cell_type": "markdown",
   "metadata": {},
   "source": [
    "When will the object above come the closest to earth? Write your answer in the Markdown cell below."
   ]
  },
  {
   "cell_type": "markdown",
   "metadata": {},
   "source": [
    "*Solution*"
   ]
  },
  {
   "cell_type": "markdown",
   "metadata": {},
   "source": [
    "What object is the hardest to see? This is the object with the highest value of [H Magnitude](https://cneos.jpl.nasa.gov/glossary/h.html). Write your answer in the Markdown cell below."
   ]
  },
  {
   "cell_type": "markdown",
   "metadata": {},
   "source": [
    "*Solution*"
   ]
  },
  {
   "cell_type": "markdown",
   "metadata": {},
   "source": [
    "## 4. (Optional) Challenge questions\n",
    "\n",
    "1. The Voyager 1 and 2 spacecraft are ID -31 and -32, respectively. Earth is 399, Mars is 499, Jupiter is 599, etc. They were both launched in 1977, and are now outside our solar system, traveling through interstellar space. In the cell below, write code to plot the trajectories of Voyager 1 and 2, and, optionally, along with the planets they flew by."
   ]
  },
  {
   "cell_type": "code",
   "execution_count": null,
   "metadata": {},
   "outputs": [],
   "source": []
  },
  {
   "cell_type": "markdown",
   "metadata": {},
   "source": [
    "2. Try to remake these plots in three dimensions using matplotlib. You can get the z coordinates of Earth, for example, by using `earth_xyz[\"z\"]`. You may find [this tutorial](https://towardsdatascience.com/an-easy-introduction-to-3d-plotting-with-matplotlib-801561999725) useful. Do this in the code cell below."
   ]
  },
  {
   "cell_type": "code",
   "execution_count": null,
   "metadata": {},
   "outputs": [],
   "source": []
  },
  {
   "cell_type": "markdown",
   "metadata": {},
   "source": [
    "3. Make a new plot of the same data that looks prettier by removing the tick marks and making the background black. You could also consider changing the colors, shapes, and sizes of the points. Do this in the code cell below."
   ]
  },
  {
   "cell_type": "code",
   "execution_count": null,
   "metadata": {},
   "outputs": [],
   "source": []
  },
  {
   "cell_type": "markdown",
   "metadata": {},
   "source": [
    "4. Speaking of plots, plot a histogram of fireball impact energies. Do this in the code cell below."
   ]
  },
  {
   "cell_type": "code",
   "execution_count": null,
   "metadata": {},
   "outputs": [],
   "source": []
  }
 ],
 "metadata": {
  "kernelspec": {
   "display_name": "Python 3 (ipykernel)",
   "language": "python",
   "name": "python3"
  },
  "language_info": {
   "codemirror_mode": {
    "name": "ipython",
    "version": 3
   },
   "file_extension": ".py",
   "mimetype": "text/x-python",
   "name": "python",
   "nbconvert_exporter": "python",
   "pygments_lexer": "ipython3",
   "version": "3.9.7"
  }
 },
 "nbformat": 4,
 "nbformat_minor": 4
}
