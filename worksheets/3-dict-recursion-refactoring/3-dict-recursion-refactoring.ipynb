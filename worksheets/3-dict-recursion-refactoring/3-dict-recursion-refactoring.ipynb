{
 "cells": [
  {
   "cell_type": "markdown",
   "metadata": {},
   "source": [
    "# Worksheet 3: Dictionaries, Recursion, and Refactoring\n",
    "In this worksheet, you will get the chance to practice creating and manipulating dictionaries, implementing functions using a recursive approach, and refactoring code to implement more efficient ways to produce the same outputs from the same inputs."
   ]
  },
  {
   "cell_type": "markdown",
   "metadata": {},
   "source": [
    "## Before Starting\n",
    "\n",
    "In order to make some parts of this worksheet work properly, make sure you run the code cell below and every time you restart the notebook or kernel."
   ]
  },
  {
   "cell_type": "code",
   "execution_count": null,
   "metadata": {},
   "outputs": [],
   "source": [
    "%load_ext autoreload\n",
    "%autoreload 2"
   ]
  },
  {
   "source": [
    "## 1. Dictionaries for MAD LIBS\n",
    "\n",
    "You will be filling out a Mad Libs story using a Python dictionary. The story is hidden in the `dict_madlibs.py` file (no peeking!) as constant. It is imported as a variable into this notebook for your convenience. We are also able to pull the empty dictionary with the needed parts of speech for each entry as a constant. Feel free to print out the `madlibs` variable and notice how the dictionary keys are tuples of the form `(entry_index,\"part of speech\")`. \n",
    "\n",
    "You will need iterate through the dictionary and assign the values to each key using Python's `input()` function, which will generate a dialog box where you can fill in an entry matching the provide part of speech. You should store the input as an UPPERCASE string so that the entries stand out in the final generated story. See [the Python documention for the input function](https://docs.python.org/3/library/functions.html#input). Your dialog box should prompt the user with something like **\"Enter noun: \"**.\n",
    "\n",
    "You will then need to complete the `generate_story()` function by iterating through the `items` in `madlibs` and replacing the text in `madlibs_story`. We recommend you use the `str.replace()` function for this. See [the Python documentation for the str.replace function](https://docs.python.org/3/library/stdtypes.html?highlight=replace#str.replace). \n",
    "\n",
    "Note: Testing strings so that you don't have to peek at the output of the original story and a final set of function calls and print command have been provided for you. The textwrap.fill() function will force the output string to be a maximum number of characters wide, which will improve readability of the generated story. "
   ],
   "cell_type": "markdown",
   "metadata": {}
  },
  {
   "cell_type": "code",
   "execution_count": null,
   "metadata": {},
   "outputs": [],
   "source": [
    "import textwrap\n",
    "import dict_madlibs\n",
    "\n",
    "# String containing the madlibs story to create\n",
    "madlibs_story = dict_madlibs.MADLIBS_STORY\n",
    "\n",
    "# Dictionary containing all the madlibs entries to fill in\n",
    "madlibs = dict_madlibs.MADLIBS"
   ]
  },
  {
   "cell_type": "code",
   "execution_count": null,
   "metadata": {},
   "outputs": [],
   "source": [
    "def enter_madlibs(madlibs):\n",
    "    \"\"\"\n",
    "    Request input for all madlibs entries in provided dictionary and assign \n",
    "    uppercase string as values to keys in provided dictionary\n",
    "\n",
    "    Args:\n",
    "        madlibs: Dictionary of madlibs to be entered keyed on tuples of \n",
    "        (index, \"part of speech\")\n",
    "\n",
    "    Returns:\n",
    "        Provided dictionary with entries added as values for each key \n",
    "    \"\"\"\n",
    "    ### YOUR CODE HERE\n",
    "    \n",
    "\n",
    "# Generate the final madlibs story by replacing placeholders with user entries\n",
    "def generate_story(madlibs, madlibs_story):\n",
    "    \"\"\"\n",
    "    Generate complete madlibs story by replacing text of format <index-\"part of speech\">\n",
    "    matching provided dictionary's keys with associated values.\n",
    "\n",
    "    Args:\n",
    "        madlibs: Dictionary of madlibs to be entered keyed on tuples of \n",
    "        (index, \"part of speech\")\n",
    "        madlibs_story: String containing madlibs story with placeholders for entries\n",
    "\n",
    "    Returns:\n",
    "        String with complete generated madlibs story \n",
    "    \"\"\"\n",
    "    # YOUR CODE HERE\n",
    "    "
   ]
  },
  {
   "source": [
    "#### Test variables and function calls to not spoil the surprise..."
   ],
   "cell_type": "markdown",
   "metadata": {}
  },
  {
   "cell_type": "code",
   "execution_count": null,
   "metadata": {},
   "outputs": [],
   "source": [
    "madlibs_test = {\n",
    "    (0,\"number\"):\"\",\n",
    "    (1,\"plural noun\"):\"\"\n",
    "}\n",
    "\n",
    "madlibs_story_test = \"You have <0-number> <1-plural noun>?!\"\n",
    "\n",
    "# Request user input madlibs entries\n",
    "madlibs_test_2 = enter_madlibs(madlibs_test)\n",
    "\n",
    "# Generate final story based on the madlibs entries\n",
    "my_story_test = generate_story(madlibs_test_2, madlibs_story_test)\n",
    "\n",
    "# Print story while wrapping it for readability\n",
    "print(textwrap.fill(my_story_test, width=72))"
   ]
  },
  {
   "source": [
    "#### Moment of Truth..."
   ],
   "cell_type": "markdown",
   "metadata": {}
  },
  {
   "cell_type": "code",
   "execution_count": null,
   "metadata": {},
   "outputs": [],
   "source": [
    "# Request user input madlibs entries\n",
    "madlibs = enter_madlibs(madlibs)\n",
    "\n",
    "# Generate and print story while wrapping it for readability\n",
    "print(textwrap.fill(generate_story(madlibs,madlibs_story), width=72))"
   ]
  },
  {
   "cell_type": "markdown",
   "metadata": {},
   "source": [
    "## 2. Recursion Practice\n",
    "\n",
    "The following exercises will provide practice in implementing recursive functions. Remember to start by imagining the simple base case that will solve your problem. Once you have a base case, think of how to break the problem down into smaller versions. (See the [Recursion section in Reading 3](https://softdes.olin.edu/docs/readings/3-function-design-problem-solving/#recursion) for a refresher of this process.)"
   ]
  },
  {
   "cell_type": "markdown",
   "metadata": {},
   "source": [
    "### 2a. Palindromes\n",
    "\n",
    "In the file `recursive_palindrome.py`, fill in the function `is_palindrome(string)`, which takes a string and returns `True` if it a palindrome (the same backwards and forwards) and `False` otherwise.\n",
    "\n",
    "Remember that if a palindrome is the same backwards and forwards, its first and last characters should be the same. This may help you determine your base case and recursive case.\n",
    "\n",
    "Once complete, you can run the cell below to test your code."
   ]
  },
  {
   "cell_type": "code",
   "execution_count": null,
   "metadata": {},
   "outputs": [],
   "source": [
    "import recursive_palindrome\n",
    "\n",
    "# This should return True for \"ABBA\"\n",
    "recursive_palindrome.is_palindrome(\"ABBA\")"
   ]
  },
  {
   "cell_type": "markdown",
   "metadata": {},
   "source": [
    "### 2b. Exponentiation\n",
    "\n",
    "In the file `recursive_power.py`, fill in the function `power(x, n)`. This function takes two integers, `x` and `n` and returns `x` to the `n`th power, or `x ** n`. You can assume that `n` will not be negative. Rather than simply doing this with the built-in Python operators, however, you will be doing this recursively.\n",
    "\n",
    "Here, it will help to be a bit careful about your base case, since there are a few options that sound plausible, but some will not result in correct solutions. When you write your recursive case, you may also want to take care, since you now have two function parameters to deal with.\n",
    "\n",
    "Once complete, you should add your own `import` statement below to test your code. Use the way the function call is written to determine what type of `import` to use."
   ]
  },
  {
   "cell_type": "code",
   "execution_count": null,
   "metadata": {},
   "outputs": [],
   "source": [
    "# Add your import statement here\n",
    "\n",
    "# This should return 64 for (4, 3)\n",
    "recursive_power.power(4, 3)"
   ]
  },
  {
   "cell_type": "code",
   "execution_count": null,
   "metadata": {},
   "outputs": [],
   "source": []
  },
  {
   "source": [
    "## 3. Refactoring Our Linear and Binary Search Programs\n",
    "\n",
    "Sometimes you write some janky code in order to get something working just well enough using what you already know so that you can move on with your life. And sometimes you need to go back and refactor that code later because you find that is inefficient (maybe it runs too slowly or it is implemented using too many lines of code and file size is important), ineffective (fails with your newly gained power of unit testing), or it no longer runs under an updated version of the programming language (Python 2 -> Python 3 problems). Whatever your reason, you are ready to produce a more elegant solution.\n",
    "\n",
    "Fortunately, we have some readymade janky code for this challenge thanks to Worksheet 1's ludicrous if-else tree Linear and Binary Search implementations. Your job will be to refactor the provided versions of these search functions using either iteration or recursion. (See the [Iteration or Recursion? section of Reading 3](https://softdes.olin.edu/docs/readings/3-dict-recursion-refactoring/#iteration-or-recursion) for a discussion of choosing the best method for the problem at hand). \n",
    "\n",
    "Often code needing to be refactored in a published software library or as part of a larger software project needs to be able to call the same functions with the same input and get the same output in the same formats. So you cannot change the basic function definitions or their original parameters or what these functions return. They must print the same thing they would have printed out had the original program run. However, within the function body, you can change any code to accomplish this task.\n",
    "\n",
    "We did not have functions in Worksheet 1, so we created some wrapper functions for you to build on.\n"
   ],
   "cell_type": "markdown",
   "metadata": {}
  },
  {
   "source": [
    "### 3a. Linear Search\n",
    "Below is a sample solution for a linear search from 1–10 that counts the steps necessary to solve and is robust against unsupported numbers and search ranges. The code has been slightly refactored to take a search_array. But it can still only be used for the range of integers 1–10. Super janky. \n",
    "\n",
    "Below that is a cell for you to put your refactored linear search function. Notice that we have added the `steps=None` parameter to the function definition. This allows Python to take an argument for `steps` during recursive function calls but does not require a `steps` argument to be passed to it in order to run. While this is useful for recursion, it is still up to you to whether you implement an iterative or recursive solution. Choose the best one. There is a better option here. Sketch out possible solutions and choose one. Don't forget to update the docstring for your refactored function, if necessary.\n",
    "\n",
    "Also, notice that in a following cell we have provided some additional test inputs for search ranges in `search_array_init` that will not work for the old, janky solution, but could/should work for your refactored, iterative or recursive solution. This means you will also have to change the \"Check for valid search array\" to ensure any range of integers, not just 1–10. You should test various values as `input` as well to make sure your code is robust."
   ],
   "cell_type": "markdown",
   "metadata": {}
  },
  {
   "source": [
    "# Old, Janky Linear Search Solution\n",
    "\n",
    "def linear_search(input, search_array):\n",
    "    \"\"\"\n",
    "    Find the desired number in a given array using a \n",
    "    linear search algorithm and print a message.\n",
    "\n",
    "    Args:\n",
    "        input: An integer to search for\n",
    "        search_array: The range of integers to search within\n",
    "\n",
    "    Returns:\n",
    "        Nothing. \n",
    "    \"\"\"\n",
    "    # Check for valid input\n",
    "    if not isinstance(input, int):\n",
    "        print(\"Your desired search query is invalid! Must be an integer.\")\n",
    "        return\n",
    "    \n",
    "    # Check for valid search array of integers 1–10\n",
    "    if search_array != list(range(1,11)):\n",
    "        print(\"Your desired search range is invalid!\")\n",
    "        return\n",
    "    \n",
    "    steps = 0\n",
    "\n",
    "    if input == search_array[0]:\n",
    "        steps += 1\n",
    "        print(f\"{search_array[0]} is your number, found in {steps} steps.\")\n",
    "    else:\n",
    "        steps += 1\n",
    "        if input == search_array[1]:\n",
    "            steps += 1\n",
    "            print(f\"{search_array[1]} is your number, found in {steps} steps.\")\n",
    "        else:\n",
    "            steps += 1\n",
    "            if input == search_array[2]:\n",
    "                steps += 1\n",
    "                print(f\"{search_array[2]} is your number, found in {steps} steps.\")\n",
    "            else:\n",
    "                steps += 1\n",
    "                if input == search_array[3]:\n",
    "                    steps += 1\n",
    "                    print(f\"{search_array[3]} is your number, found in {steps} steps.\")\n",
    "                else:\n",
    "                    steps += 1\n",
    "                    if input == search_array[4]:\n",
    "                        steps += 1\n",
    "                        print(f\"{search_array[4]} is your number, found in {steps} steps.\")\n",
    "                    else:\n",
    "                        steps += 1\n",
    "                        if input == search_array[5]:\n",
    "                            steps += 1\n",
    "                            print(f\"{search_array[5]} is your number, found in {steps} steps.\")\n",
    "                        else:\n",
    "                            steps += 1\n",
    "                            if input == search_array[6]:\n",
    "                                steps += 1\n",
    "                                print(f\"{search_array[6]} is your number, found in {steps} steps.\")\n",
    "                            else:\n",
    "                                steps += 1\n",
    "                                if input == search_array[7]:\n",
    "                                    steps += 1\n",
    "                                    print(f\"{search_array[7]} is your number, found in {steps} steps.\")\n",
    "                                else:\n",
    "                                    steps += 1\n",
    "                                    if input == search_array[8]:\n",
    "                                        steps += 1\n",
    "                                        print(f\"{search_array[8]} is your number, found in {steps} steps.\")\n",
    "                                    else:\n",
    "                                        steps += 1\n",
    "                                        if input == search_array[9]:\n",
    "                                            steps += 1\n",
    "                                            print(f\"{search_array[9]} is your number, found in {steps} steps.\")\n",
    "                                        else:\n",
    "                                            steps += 1\n",
    "                                            print(\"Your input has not been recognized after\",steps,\"steps.\")"
   ],
   "cell_type": "code",
   "metadata": {},
   "execution_count": null,
   "outputs": []
  },
  {
   "cell_type": "code",
   "execution_count": null,
   "metadata": {},
   "outputs": [],
   "source": [
    "# Your Refactored, Iterature or Recurseive Linear Search Solution\n",
    "\n",
    "def linear_search(input, search_array, steps=None):\n",
    "    \"\"\"\n",
    "    YOUR DOCSTRING HERE\n",
    "    \"\"\"\n",
    "    #YOUR CODE HERE"
   ]
  },
  {
   "cell_type": "code",
   "execution_count": null,
   "metadata": {},
   "outputs": [],
   "source": [
    "# Linear Search Function Tests \n",
    "\n",
    "query = 5\n",
    "search_array_init = list(range(1,11))\n",
    "#search_array_init = list(range(-50,51))\n",
    "#search_array_init = [2, 3, 7, 8, 10]\n",
    "\n",
    "linear_search(query, search_array_init)"
   ]
  },
  {
   "source": [
    "### 3b. Binary Search\n",
    "Below is a sample solution for a binary search from 1–10 that counts the steps necessary to solve and is robust against unsupported numbers and search ranges. The code has been slightly refactored to take a search_array. But it can only be the range of integers 1–10. Again, super janky. \n",
    "\n",
    "Below the provided solution is a cell for you to put your refactored binary search function. Notice that we have again added the `steps=None` parameter to the function definition. This allows Python to take an argument for `steps` during recursive function calls but does not require a `steps` argument to be passed to it in order to run. It is up to you to implement an iterative or recursive solution. Don't forget to update the docstring for your refactored function, if necessary.\n",
    "\n",
    "Once again, notice that we have provided some additional test inputs for search ranges in `search_array_init` that will not work for the old, janky solution, but could/should work for your refactored, recursive solution. This means you will also have to change the \"Check for valid search array\" to ensure any range of integers, not just 1–10 (you should be able to use the same code from your refactored linear search solution if you solved it there). You should test various values as `input` as well to make sure your code is robust.\n",
    "\n",
    "Note: While your refactored linear search code should take the exact same number of steps to find your desired number as the original code, it's likely that your refactored binary search function may not match the old code as it depends highly on your implementation."
   ],
   "cell_type": "markdown",
   "metadata": {}
  },
  {
   "cell_type": "code",
   "execution_count": null,
   "metadata": {},
   "outputs": [],
   "source": [
    "# Old, Janky Binary Search Solution\n",
    "\n",
    "def binary_search(input, search_array):\n",
    "    \"\"\"\n",
    "    Find the desired number in a given array using a \n",
    "    binary search algorithm and print a message.\n",
    "\n",
    "    Args:\n",
    "        input: An integer to search for\n",
    "        search_array: The range of integers to search within\n",
    "\n",
    "    Returns:\n",
    "        Nothing. \n",
    "    \"\"\"\n",
    "    # Check for valid input\n",
    "    if not isinstance(input, int):\n",
    "        print(\"Your desired search query is invalid! Must be an integer.\")\n",
    "        return\n",
    "\n",
    "    # Check for valid search array of integers 1–10\n",
    "    if search_array != list(range(1,11)):\n",
    "        print(\"Your desired search range is invalid! Must be integers 1–10.\")\n",
    "        return\n",
    "\n",
    "    steps = 0\n",
    "\n",
    "    if input <= 5:\n",
    "        steps += 1\n",
    "        if input < 3:\n",
    "            steps += 1\n",
    "            if input == 1:\n",
    "                steps += 1\n",
    "                print(\"1 is your number, found in\",steps,\"steps\")\n",
    "            elif input == 2:\n",
    "                steps += 1\n",
    "                print(\"2 is your number, found in\",steps,\"steps\")\n",
    "            else:\n",
    "                steps += 1\n",
    "                print(\"Your input has not been recognized after\",steps,\"steps\")\n",
    "        elif input > 3:\n",
    "            steps += 1\n",
    "            if input == 4:\n",
    "                steps += 1\n",
    "                print(\"4 is your number, found in\",steps,\"steps\")\n",
    "            elif input == 5:\n",
    "                steps += 1\n",
    "                print(\"5 is your number, found in\",steps,\"steps\")\n",
    "            else:\n",
    "                steps += 1\n",
    "                print(\"Your input has not been recognized after\",steps,\"steps\")\n",
    "        else:\n",
    "            steps += 1\n",
    "            print(\"3 is your number, found in\",steps,\"steps\")\n",
    "    elif input > 5:\n",
    "        steps += 1\n",
    "        if input < 8:\n",
    "            steps += 1\n",
    "            if input == 6:\n",
    "                steps += 1\n",
    "                print(\"6 is your number, found in\",steps,\"steps\")\n",
    "            elif input == 7:\n",
    "                steps += 1\n",
    "                print(\"7 is your number, found in\",steps,\"steps\")\n",
    "            else:\n",
    "                steps += 1\n",
    "                print(\"Your input has not been recognized after\",steps,\"steps\")\n",
    "        elif input > 8:\n",
    "            steps += 1\n",
    "            if input == 9:\n",
    "                steps += 1\n",
    "                print(\"9 is your number, found in\",steps,\"steps\")\n",
    "            elif input == 10:\n",
    "                steps += 1\n",
    "                print(\"10 is your number, found in\",steps,\"steps\")\n",
    "            else:\n",
    "                steps += 1\n",
    "                print(\"Your input has not been recognized after\",steps,\"steps\")\n",
    "        else:\n",
    "            steps += 1\n",
    "            print(\"8 is your number, found in\",steps,\"steps\")\n",
    "    else:\n",
    "        steps += 1\n",
    "        print(\"Your input has not been recognized after\",steps,\"steps\")"
   ]
  },
  {
   "cell_type": "code",
   "execution_count": null,
   "metadata": {},
   "outputs": [],
   "source": [
    "# Your Refactored, Recursive Binary Search Solution\n",
    "\n",
    "def binary_search(input, search_array, steps=None):\n",
    "    \"\"\"\n",
    "    YOUR DOCSTRING HERE\n",
    "    \"\"\"\n",
    "    #YOUR CODE HERE"
   ]
  },
  {
   "cell_type": "code",
   "execution_count": null,
   "metadata": {},
   "outputs": [],
   "source": [
    "# Binary Search Function Tests \n",
    "\n",
    "query = 3\n",
    "search_array_init = list(range(1,11))\n",
    "#search_array_init = list(range(-50,51))\n",
    "#search_array_init = [2, 3.5, 7, 8, 10]\n",
    "\n",
    "binary_search(query, search_array_init)"
   ]
  }
 ],
 "metadata": {
  "kernelspec": {
   "display_name": "Python 3",
   "language": "python",
   "name": "python3"
  },
  "language_info": {
   "codemirror_mode": {
    "name": "ipython",
    "version": 3
   },
   "file_extension": ".py",
   "mimetype": "text/x-python",
   "name": "python",
   "nbconvert_exporter": "python",
   "pygments_lexer": "ipython3",
   "version": "3.8.5-final"
  }
 },
 "nbformat": 4,
 "nbformat_minor": 4
}