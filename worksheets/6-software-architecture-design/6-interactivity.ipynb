{
 "cells": [
  {
   "cell_type": "markdown",
   "metadata": {},
   "source": [
    "# Worksheet 6: What's the deal with interactive programs?\n",
    "\n",
    "## Motivation\n",
    "\n",
    "For your final project, you will be building an interactive program. It can be any kind of program you'd like (within reason) as long as it is interactive.\n",
    "\n",
    "This will require you to use the Python knowledge you've gained. You will also practice scoping and designing the architecture of your program. \n",
    "\n",
    "This worksheet will help you prepare for this final project by showing you a simple example of an interactive program.\n",
    "\n",
    "## 0. Introduction\n",
    "\n",
    "### Classy Cards\n",
    "\n",
    "Below is some code that represents a playing card from a 52-card deck:"
   ]
  },
  {
   "cell_type": "code",
   "execution_count": null,
   "metadata": {},
   "outputs": [],
   "source": [
    "class Card:\n",
    "    \n",
    "    def __init__(self, suit, rank):\n",
    "        \"\"\"\n",
    "        Args:\n",
    "            suit: A string representing the suit.\n",
    "            rank: An int represnting the rank of the card (11-13 is J, Q, K).\n",
    "        \"\"\"\n",
    "        self.suit = suit\n",
    "        self.rank = rank\n",
    "    \n",
    "    def __repr__(self):\n",
    "        if self.rank == 1:\n",
    "            rank = \"Ace\"\n",
    "            \n",
    "        #Solution to Question 1 (below) goes here \n",
    "        #End Solutions\n",
    "           \n",
    "        return f\"{rank} of {self.suit}\""
   ]
  },
  {
   "cell_type": "markdown",
   "metadata": {},
   "source": [
    "1. As a warmup, please modify class Card (above) so that it also returns \"Jack\" \"Queen\" and \"King\" instead of 11, 12, and 13 when asked for rank. Remember that you'll need an `else` statment to deal with the things that are not face cards.\n",
    "\n",
    "Below is a class representing a deck of cards, using the `Card` class above."
   ]
  },
  {
   "cell_type": "code",
   "execution_count": null,
   "metadata": {},
   "outputs": [],
   "source": [
    "import random\n",
    "\n",
    "class Deck:\n",
    "    \n",
    "    def __init__(self):\n",
    "        self.cards = []\n",
    "        for suit in [\"Clubs\", \"Diamonds\", \"Hearts\", \"Spades\"]:\n",
    "            for rank in range(1,14):\n",
    "                self.cards.append(Card(suit,rank))\n",
    "\n",
    "    def shuffle(self):\n",
    "        random.shuffle(self.cards)\n",
    "        \n",
    "    def draw(self):\n",
    "        drawn_card = self.cards[0]\n",
    "        self.cards = self.cards[1:]\n",
    "        return drawn_card"
   ]
  },
  {
   "cell_type": "code",
   "execution_count": null,
   "metadata": {},
   "outputs": [],
   "source": [
    "# Recall how we shuffle a deck and print the results.\n",
    "d = Deck()\n",
    "# \"Fresh out of the box\" order\n",
    "d.cards"
   ]
  },
  {
   "cell_type": "code",
   "execution_count": null,
   "metadata": {},
   "outputs": [],
   "source": [
    "# Shuffled order\n",
    "d.shuffle()\n",
    "d.cards"
   ]
  },
  {
   "cell_type": "markdown",
   "metadata": {},
   "source": [
    "## 2.  Spoons\n",
    "Spoons is a simple game for all ages. It works like this. Each player gets four cards. The remaining cards go in a pile.\n",
    "\n",
    "There are a pile of Spoons in between the players. There is one less spoon then there are players.\n",
    "\n",
    "Each player wants to get four of a kind (so four queens, or four sevens, etc). They can only have four cards at a time.\n",
    "\n",
    "The first play draws a card from the pile. They choose to keep it, and discard a card they were holding, or they choose not to keep it. They pass the card they aren't keeping to the person next to them.\n",
    "\n",
    "The person next to them does the same thing, and this repeats for all the players.\n",
    "\n",
    "Once a player gets four of a kind, they can take a spoon from the pile. They do this sneakily, not drawing attention to themselves. They pretend to continue to look at cards.\n",
    "\n",
    "If another player notices a spoon is missing, they can take a spoon.\n",
    "\n",
    "The person without a spoon loses. The game ends when they realize they lost.\n",
    "\n",
    "### Single Player Spoons\n",
    "I'd like you to code a single player game of Spoons. This is the simplest instance of Spoons, so that's why we are starting here. When programming, it's a good idea to start with the most simple case first. So we will ignore the spoon part for now. Your player just wants to get four of a kind. \n",
    "\n",
    "This game will work with the player typing in commands to the terminal. You want your player to tell you if they've won or not, and to decide what they need to do next.\n",
    "\n",
    "2. Before you start coding, please write out all the actions your code will need to take. Your code (above) already makes a deck and shuffles it. What other actions will you need to program to allow a single person to play Spoons? (Please do your best effort right now, and don't change this later as you work through the worksheet.)"
   ]
  },
  {
   "cell_type": "markdown",
   "metadata": {},
   "source": [
    "*Solution:*"
   ]
  },
  {
   "cell_type": "markdown",
   "metadata": {},
   "source": [
    "## 3. Interactivity\n",
    "\n",
    "In the previous question, you probably came up with the idea that you need to ask the player what they want to do next. Here's an example of how we might code that up.\n",
    "\n",
    "Please experiment with it until you understand what it is doing. You can experiment by changing the code and by playing with your responses.\n",
    "\n",
    "*Note*: In VS Code, the input text box appears at the top of the window, which is a bit unintuitive. If your code seems to be taking a long time to run, it is probably waiting for your input at the top."
   ]
  },
  {
   "cell_type": "code",
   "execution_count": null,
   "metadata": {},
   "outputs": [],
   "source": [
    "# This code asks if the player wants to draw a card.\n",
    "\n",
    "d = Deck()\n",
    "another_card = None\n",
    "while (another_card != 'y') & (another_card != 'n'):\n",
    "    another_card = input(\"Would you like another card? y/n \")\n",
    "    if (another_card)== 'y':\n",
    "        new_card=d.draw()\n",
    "        print(\"Your new card is\", new_card)\n",
    "    elif (another_card)== 'n':\n",
    "        break"
   ]
  },
  {
   "cell_type": "markdown",
   "metadata": {},
   "source": [
    "### Your first interactive game.\n",
    "3. Please create a working single player version of Spoons. Hopefully you have thought this through already, as you answered a previous question. But in case you are struggling, here's some hints. You will need\n",
    "\n",
    "3a. A \"hand\" of four cards\n",
    "\n",
    "3b. A way to ask the player if they have won or not (if they've gotten a hand with four of a kind).\n",
    "\n",
    "3c. A way to add a card to your hand, and discard another card.\n",
    "\n",
    "3d. Friendly reminders to the player of what their current hand is.\n",
    "\n",
    "Remember, try your best. We are looking for effort. If you get stuck, please write what happened so we can understand when we grade."
   ]
  },
  {
   "cell_type": "code",
   "execution_count": 1,
   "metadata": {},
   "outputs": [],
   "source": [
    "# Solution"
   ]
  },
  {
   "cell_type": "markdown",
   "metadata": {},
   "source": [
    "### 4. Optional stretch activity\n",
    "4. As a stretch exercise, make a multiplayer version of Spoons. You may wish to start with two players."
   ]
  },
  {
   "cell_type": "code",
   "execution_count": 2,
   "metadata": {},
   "outputs": [],
   "source": [
    "# Solution"
   ]
  }
 ],
 "metadata": {
  "kernelspec": {
   "display_name": "Python 3",
   "language": "python",
   "name": "python3"
  },
  "language_info": {
   "codemirror_mode": {
    "name": "ipython",
    "version": 3
   },
   "file_extension": ".py",
   "mimetype": "text/x-python",
   "name": "python",
   "nbconvert_exporter": "python",
   "pygments_lexer": "ipython3",
   "version": "3.9.7"
  }
 },
 "nbformat": 4,
 "nbformat_minor": 4
}
