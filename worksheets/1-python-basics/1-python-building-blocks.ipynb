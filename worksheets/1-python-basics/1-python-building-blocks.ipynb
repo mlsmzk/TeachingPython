{
 "cells": [
  {
   "cell_type": "markdown",
   "metadata": {},
   "source": [
    "# Worksheet 1: Essential Python Building Blocks\n",
    "\n",
    "Welcome to the first worksheet of Software Design! The learning objectives of this worksheet include:\n",
    "* Getting comfortable with:\n",
    "    * math operators (e.g., `+`, `-`, `*`, `**`, `\\`, `\\\\`, `%`)\n",
    "    * comparison operators (e.g., `==`, `!=`, `<`, `>`, `<=`, `>=`, `is`, `is not`)\n",
    "    * logical boolean operators (e.g., `and`, `or`, `not`)\n",
    "* Implementing conditionals (e.g., `if`, `elif`, `else`)\n",
    "* Practicing debugging and tracing\n",
    "* Manipulating strings\n",
    "* Implementing simple functions\n",
    "* Building good habits around commenting code and naming variables"
   ]
  },
  {
   "cell_type": "markdown",
   "metadata": {},
   "source": [
    "## Exercise 1: Type Combinations\n",
    "\n",
    "In the reading, you learned about four different data types:\n",
    "\n",
    "* Integers (`int`)\n",
    "* Floating-point numbers (`float`)\n",
    "* Boolean values (`bool`)\n",
    "* Strings (`str`)\n",
    "\n",
    "You also learned about a number of operators. These can be symbols, such as `+`, `==`, `**`, and `%`, or words, such as `and`, `or`, and `not`. You also learned that some operations happen before others: if you write `2 + 3 * 4`, the multiplication `3 * 4` will happen before the addition, even though it appears to the right of the addition.\n",
    "\n",
    "In this exercise, you should experiment to see what types you can combine with different operators, the types these operations produce, and in what order these operations happen.\n",
    "\n",
    "In the cell below, try to experiment by combining types with different operators."
   ]
  },
  {
   "cell_type": "code",
   "execution_count": null,
   "metadata": {},
   "outputs": [],
   "source": [
    "\"ba\" + \"na\" * 2  # Feel free to edit this"
   ]
  },
  {
   "cell_type": "markdown",
   "metadata": {},
   "source": [
    "### Discussion\n",
    "\n",
    "As you experiment, note the observations you find. As an example, you can write something like this:\n",
    "\n",
    "> * Multiplication happens before addition (concatenation), even with strings. The expression `\"ba\" + \"na\" * 2` returns the string `banana`. If the concatenation happened first, the expression would have returned `banabana`.\n",
    "\n",
    "If the operation succeeds, make sure to note what type you get as a result. If you get an error, be sure to note what type of error you get.\n",
    "\n",
    "Write your observations in the cell below (_write at least two observations_):"
   ]
  },
  {
   "cell_type": "markdown",
   "metadata": {},
   "source": [
    "(write your observations here)"
   ]
  },
  {
   "cell_type": "markdown",
   "metadata": {},
   "source": [
    "If you get stuck on things to try, consider the following questions:\n",
    "\n",
    "* Does it matter if you multiply a string by an integer or an integer by a string? What about for other types and operators?\n",
    "* If you do various numerical operations, when is the result an integer and when is it a float?\n",
    "* Can you compare things that are not numbers - for example, can you do something like `False < True`?\n",
    "* We saw that you can \"chain\" operators, like `1 < 2 < 3`. For what combinations of types and operators does this work?\n",
    "\n",
    "As a final hint, remember that `-` can be used in two ways: with one variable to take the negative of that variable (as in `-2`) and with two variables to take the difference of those two variables (as in `2 - 5`). These are actually different operations - feel free to play around with this if you have time."
   ]
  },
  {
   "cell_type": "markdown",
   "metadata": {},
   "source": [
    "## Exercise 2: The 24 Game\n",
    "\n",
    "Let's practice using operators by using the integers `1`–`9` in different combinations to make 24. The rules are that you must use four numbers in some sequence of operations in order to produce 24. Here are two examples:\n",
    "\n",
    "`(6 + 7) * 2 - 2 = 24`\n",
    "\n",
    "`2 ** 5 - 9 + 1 = 24`\n",
    "\n",
    "For this exercise, create a set math expressions in the cell below that combine exactly 4 integers using exactly 3 operators, such that you use every single integer `1`-`9` at least once, and every single math operator `+`, `-`, `*`, `/`, `%`, `**`, `//` at least once. If you are having problems with `float` type numbers you can use the `int(expression)` function to force the result back into an integer.\n",
    "\n",
    "Obviously, each combination must produce `24`. (This will require you to create at least three expressions. Because math.)\n"
   ]
  },
  {
   "cell_type": "code",
   "execution_count": null,
   "metadata": {},
   "outputs": [],
   "source": [
    "# Examples\n",
    "play24_1 = (6 + 7) * 2 - 2\n",
    "play24_2 = 2 ** 5 - 9 + 1\n",
    "\n",
    "print(\"Results:\",play24_1,play24_2)"
   ]
  },
  {
   "cell_type": "code",
   "execution_count": null,
   "metadata": {},
   "outputs": [],
   "source": [
    "# Put your math expressions here\n",
    "\n"
   ]
  },
  {
   "cell_type": "markdown",
   "metadata": {},
   "source": [
    "### Discussion\n",
    "\n",
    "When you finish, marvel at the cleverness of your fellow classmates and the myriad possible, correct combinations. \n",
    "\n",
    "If you encounter any cases where you expect a result of `24` but you get something like `23.999909997`, you might be experiencing a [floating point rounding error](https://floating-point-gui.de/errors/rounding/), a common problem in programming that stems from the way floating point numbers are handled by your computer. This is not something wrong with your Python code ([read more about floating point arithmetic in Python](https://docs.python.org/3/tutorial/floatingpoint.html)). However, if you fail to account for and mitigate rounding errors in programs you write, these errors can propagate through your code and disrupt things like comparisons, e.g. `var == 24` ... `False` . Go back to your code and the operators you used. Can you figure out where the rounding error might have occurred? Think about which operators create floating point numbers."
   ]
  },
  {
   "cell_type": "markdown",
   "metadata": {},
   "source": [
    "## Exercise 3: Debugging and Tracing\n",
    "\n",
    "As you continue this worksheet and work on Assignment 1, it will be helpful for you to have some experience in debugging and tracing through code.\n",
    "\n",
    "In this exercise, you will track down some bugs. The hope for this exercise is that you will get a sense of how to deal with bugs when they appear and what kinds of questions to ask to check that your code is working correctly.\n",
    "\n",
    "The code below attempts to define a function that takes a `word` and a `side_length` to produce a \"square\" of that word using a print function and checks to make sure the right object types are being passed to the function. The function calls `word_square(42,3)` and `word_square(\"banana\",3)` should produce the following output:\n",
    "\n",
    "```\n",
    "Please make sure you enter a string for the word and an integer for the side length.\n",
    "banana banana banana \n",
    "banana banana banana \n",
    "banana banana banana \n",
    "```\n",
    "\n",
    "Unfortunately, the code has numerous erorrs. Fix them."
   ]
  },
  {
   "cell_type": "code",
   "execution_count": null,
   "metadata": {},
   "outputs": [],
   "source": [
    "def word_square(word,side_length):\n",
    "    if isinstance(word, str) and isinstance(side_length, int): \n",
    "        print((word+\" \")*side_letngh+\"\\n\")/side_length)\n",
    "    else\n",
    "        print(\"Please make sure you enter a string for the \" /\n",
    "            \"word and an integer for the side length.\")\n",
    "\n",
    "word_square(42,3)\n",
    "word_square(\"banana\",3)"
   ]
  },
  {
   "cell_type": "markdown",
   "metadata": {},
   "source": [
    "### Help\n",
    "\n",
    "If you need it, here are the likely order of bugs you will encounter if you fix them one by one (needs to be viewed in VS Code or Jupyter Notebooks to see the spoilers below):\n",
    "\n",
    "<details><summary>Spoiler Warning</summary>\n",
    "<ul>\n",
    "<li><code>SyntaxError: unmatched ')'</code></li>\n",
    "<li><code>SyntaxError: invalid syntax</code></li>\n",
    "<li><code>TypeError: unsupported operand type(s) for /: 'str' and 'str'</code></li>\n",
    "<li><code>NameError: name 'side_letngh' is not defined</code></li>\n",
    "<li><code>Logic error producing rectangle instead of a square</code></li>\n",
    "</ul>\n",
    "</details>"
   ]
  },
  {
   "cell_type": "markdown",
   "metadata": {},
   "source": [
    "## Exercise 4: String Slicing as Data Cleaning\n",
    "\n",
    "In this exercise, you will slice up some data in strings in order to make it more legible. Not so fun fact: most of data science is actually data cleaning. Data scientists employ sophisticated software for cleaning text and number data to create \"data frames\" they can use in their analysis. All you have right now is string slicing. So...\n",
    "\n",
    "Use [string slicing](https://softdes.olin.edu/docs/readings/1-python-basics/#indexing-and-slicing), [escape sequences](https://docs.python.org/3/reference/lexical_analysis.html#string-and-bytes-literals) for special characters, concatenation, and the `print` function, to render these lists of first names `\"alice,b,o,b,charlie\"` and birthdates `\"1983-05-15,1990-12-30,2001-10-27\"` into two neat data columns, like this:\n",
    "\n",
    "```\n",
    "alice   05-15-1983\n",
    "bob     12-30-1990\n",
    "charlie 10-27-2001\n",
    "```"
   ]
  },
  {
   "cell_type": "code",
   "execution_count": null,
   "metadata": {},
   "outputs": [],
   "source": [
    "names_data = \"alice,b,o,b,charlie\"\n",
    "dates_data = \"1983-05-15,1990-12-30,2001-10-27\""
   ]
  },
  {
   "cell_type": "code",
   "execution_count": null,
   "metadata": {},
   "outputs": [],
   "source": [
    "# Your solution goes here\n"
   ]
  },
  {
   "cell_type": "markdown",
   "metadata": {},
   "source": [
    "### Discussion\n",
    "\n",
    "How might you imagine using functions to make this easier?\n"
   ]
  },
  {
   "cell_type": "markdown",
   "metadata": {},
   "source": [
    "## Exercise 5: Greeter Function\n",
    "In this exercise, we will implement a simple function to greet you. Think of it like your first, coded-from-scratch personal assistant.\n",
    "\n",
    "We have provided function that when called returns a string with a random greeting from a pre-populated list of possible greetings to get you started. \n",
    "\n",
    "You will need to write a function named `greeter` that takes an argument `name` and produces a greeting for that named person. \n",
    "\n",
    "Your function should:\n",
    "* take a string with the name of the person to be greeted passed as an argument \n",
    "* call the `random_greeting` function to get a random greeting (don't forget to run execute that cell so you can use the function)\n",
    "* combine the random greeting with the name passed by argument and include correct punctuation and spacing (try using [f-strings](https://softdes.olin.edu/docs/readings/1-python-basics/#f-strings))\n",
    "* print the full greeting\n",
    "\n",
    "Example function call and output:\n",
    "\n",
    "```\n",
    "greeter(\"Erhardt\")\n",
    "\n",
    "Salutations, Erhardt!\n",
    "```"
   ]
  },
  {
   "cell_type": "code",
   "execution_count": null,
   "metadata": {},
   "outputs": [],
   "source": [
    "import random\n",
    "\n",
    "def random_greeting():\n",
    "    \"\"\"\n",
    "    Return a random greeting from a list.\n",
    "\n",
    "    Args:\n",
    "        none\n",
    "\n",
    "    Returns:\n",
    "        A string containing a randomly chosen greeting.\n",
    "    \"\"\"\n",
    "\n",
    "    greeting_list = [\"Salutations\", \\\n",
    "            \"You are looking great today\", \\\n",
    "            \"At your service\", \\\n",
    "            \"I am prepared to be amazed by you\", \\\n",
    "            \"Wonderful to be in your presence\"]\n",
    "    \n",
    "    return random.choice(greeting_list)"
   ]
  },
  {
   "cell_type": "code",
   "execution_count": null,
   "metadata": {},
   "outputs": [],
   "source": [
    "# Your greeter function\n",
    "# YOUR CODE HERE\n",
    "\n",
    "# Calling the function\n",
    "greeter(\"YOUR NAME HERE\")"
   ]
  },
  {
   "cell_type": "markdown",
   "metadata": {},
   "source": [
    "## Exercise 6: Super Basic Search Algorithms\n",
    "In this exercise, you will implement the most basic kinds of search algorithms: [linear search](https://en.wikipedia.org/wiki/Linear_search) and [binary search](https://en.wikipedia.org/wiki/Binary_search_algorithm). Generally, these algorithms are implemented using lists and iterative loops or recursion, none of which we have learned yet. So, for practice, we will implement them using only conditionals, comparison operators, and logical boolean operators, taking one number as input and printing some output associated with that number.\n",
    "\n",
    "Here is a reminder of Python's conditionals: `if`, `elif`, `else`; comparison operators: `==`, `!=`, `<`, `>`, `<=`, `>=`, `is`, `is not`; and  logical boolean operators: `and`, `or`, `not`. You do not need to use all types of conditionals or comparison operators in order to produce working code. \n",
    "\n",
    "Because this quickly gets tedious writing out individual comparisons, we will only be implementing this to search for integers in the range of `1–10`. \n",
    "\n",
    "We'll start with basic implementations of Linear and Binary Search:\n",
    "\n",
    "1. Implement Linear Search for Integers 1–10\n",
    "2. Implement Binary Search for Integers 1–10\n",
    "\n",
    "If you have time and interest, CHALLENGE yourself to \n",
    "\n",
    "3. Print How Many Steps Each Linear Search Requires\n",
    "4. Print How Many Steps Each Binary Search Requires\n",
    "\n",
    "If you have additional time and interest, go for the REACH CHALLENGE to\n",
    "\n",
    "5. Make Your Linear Search Program Robust Against Numbers Input other than Integers 1–10\n",
    "6. Make Your Binary Search Program Robust Against Numbers Input other than Integers 1–10"
   ]
  },
  {
   "cell_type": "markdown",
   "metadata": {},
   "source": [
    "### 1: Implement Linear Search for Integers 1–10\n",
    "Requirements for your code:\n",
    "\n",
    "- Instantiate a variable as input\n",
    "- Produce a specific output message for each of the integers \\[1,2,3,4,5,6,7,8,9,10\\] if found\n",
    "- Use conditionals and comparison operators to \"search\" for the appropriate output by checking the input against each number 1–10 in order\n",
    "\n",
    "Some [pseudocode](https://en.wikipedia.org/wiki/Pseudocode) to get you started:\n",
    "\n",
    "     set input to a number\n",
    "     \n",
    "     if input is equal to 1\n",
    "          print a message specific to 1\n",
    "     if input is equal to 2\n",
    "          print a message specific to 2\n",
    "     ...\n"
   ]
  },
  {
   "cell_type": "code",
   "execution_count": null,
   "metadata": {},
   "outputs": [],
   "source": [
    "# Linear Search 1–10 Solution\n",
    "\n",
    "# YOUR CODE HERE"
   ]
  },
  {
   "cell_type": "markdown",
   "metadata": {},
   "source": [
    "### 2: Implement Binary Search for Integers 1–10\n",
    "Requirements for your code:\n",
    "\n",
    "- Instantiate a variable as input\n",
    "- Produce a specific output message for each of the integers \\[1,2,3,4,5,6,7,8,9,10\\] if found\n",
    "- Use conditionals and comparison operators to \"search\" for the appropriate output by repeatedly cutting the search range of 1–10 in half and evaluating whether the input is above or below the halfway point each time\n",
    "\n",
    "Some [pseudocode](https://en.wikipedia.org/wiki/Pseudocode) to get you started:\n",
    "\n",
    "     set input to a number\n",
    "     \n",
    "     if input is less than or equal to 5\n",
    "          if input is less than 3\n",
    "          ...\n",
    "     else\n",
    "          if input is less than 8\n",
    "          ..."
   ]
  },
  {
   "cell_type": "code",
   "execution_count": null,
   "metadata": {},
   "outputs": [],
   "source": [
    "# Binary Search 1–10\n",
    "\n",
    "# YOUR CODE HERE  \n",
    "     "
   ]
  },
  {
   "cell_type": "markdown",
   "metadata": {},
   "source": [
    "### CHALLENGE\n",
    "### 3: Print How Many Steps Each Linear Search Requires\n",
    "Requirements for your code:\n",
    "\n",
    "- All requirements from Part 1\n",
    "- Keep track of the number of steps your program takes to find the answer\n",
    "- Print the number of steps required alongside your output message\n",
    "\n",
    "Some [pseudocode](https://en.wikipedia.org/wiki/Pseudocode) to get you started:\n",
    "\n",
    "     set input to a number\n",
    "     set step counter to zero\n",
    "     \n",
    "     if input is equal to 1\n",
    "          add 1 to step counter\n",
    "          print a message specific to 1\n",
    "          print number of steps so far\n",
    "     else\n",
    "          add 1 to step counter\n",
    "          if input is equal to 2\n",
    "               add 1 to step counter\n",
    "               print a message specific to 2\n",
    "               print number of steps so far\n",
    "     ..."
   ]
  },
  {
   "cell_type": "code",
   "execution_count": 108,
   "metadata": {},
   "outputs": [
    {
     "name": "stdout",
     "output_type": "stream",
     "text": [
      "Five is your number, found in 5 steps\n"
     ]
    }
   ],
   "source": [
    "# Linear Search 1–10 Counting Steps to Solve Solution\n",
    "\n",
    "# YOUR CODE HERE\n"
   ]
  },
  {
   "cell_type": "markdown",
   "metadata": {},
   "source": [
    "### CHALLENGE\n",
    "### 4: Print How Many Steps Each Binary Search Requires\n",
    "Requirements for your code:\n",
    "\n",
    "- All requirements of Part 2 \n",
    "- Keep track of the number of steps your program takes to find the answer\n",
    "- Print the number of steps required alongside your output message\n",
    "\n",
    "Some [pseudocode](https://en.wikipedia.org/wiki/Pseudocode) to get you started:\n",
    "\n",
    "     set input to a number\n",
    "     set step counter to zero\n",
    "     \n",
    "     if input less than or equal to 5 \n",
    "          add 1 to step counter\n",
    "          if input is less than 3\n",
    "               add 1 to step counter\n",
    "               ...\n",
    "     else\n",
    "          add 1 to step counter\n",
    "          if input is less than 8\n",
    "               add 1 to step counter\n",
    "               ..."
   ]
  },
  {
   "cell_type": "code",
   "execution_count": null,
   "metadata": {},
   "outputs": [],
   "source": [
    "# Binary Search 1–10 Counting Steps to Solve\n",
    "\n",
    "# YOUR CODE HERE\n",
    "           \n",
    "        "
   ]
  },
  {
   "cell_type": "markdown",
   "metadata": {},
   "source": [
    "### REACH CHALLENGE\n",
    "### 5: Make Your Linear Search Program Robust Against Numbers Input other than Integers 1–10\n",
    "Requirements for your code:\n",
    "\n",
    "- All requirements from Part 3\n",
    "- If the input is invalid, say so\n",
    "\n",
    "No pseudocode help this time. Sorry."
   ]
  },
  {
   "cell_type": "code",
   "execution_count": null,
   "metadata": {},
   "outputs": [],
   "source": [
    "# Linear Search 1–10 Counting Steps to Solve and Robust Against Unsupported Numers Solution\n",
    "\n",
    "# YOUR CODE HERE"
   ]
  },
  {
   "cell_type": "markdown",
   "metadata": {},
   "source": [
    "### REACH CHALLENGE\n",
    "### 6: Print How Many Steps Each Binary Search Requires\n",
    "Requirements for your code:\n",
    "\n",
    "- All requirements of Part 4\n",
    "- If the input is invalid, say so\n",
    "\n",
    "No pseudocode help this time. Sorry."
   ]
  },
  {
   "cell_type": "code",
   "execution_count": null,
   "metadata": {},
   "outputs": [],
   "source": [
    "# Binary Search 1–10 Counting Steps to Solve and Robust Against Unsupported Numbers\n",
    "\n",
    "# YOUR CODE HERE"
   ]
  }
 ],
 "metadata": {
  "kernelspec": {
   "display_name": "Python 3",
   "language": "python",
   "name": "python3"
  },
  "language_info": {
   "codemirror_mode": {
    "name": "ipython",
    "version": 3
   },
   "file_extension": ".py",
   "mimetype": "text/x-python",
   "name": "python",
   "nbconvert_exporter": "python",
   "pygments_lexer": "ipython3",
   "version": "3.8.5"
  }
 },
 "nbformat": 4,
 "nbformat_minor": 2
}