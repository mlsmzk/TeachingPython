{
 "cells": [
  {
   "cell_type": "markdown",
   "id": "metallic-drinking",
   "metadata": {},
   "source": [
    "# Worksheet 5: Classes and Interface Design\n",
    "\n",
    "This worksheet is intended to give you some practice in working with classes. You may find it helpful to have [Reading 5](https://softdes.olin.edu/docs/readings/5-classes-interface-design/) handy as you do this.\n",
    "\n",
    "## 1. A First Date\n",
    "\n",
    "To start, let's write a class to represent a calendar date. Here is some starter code:"
   ]
  },
  {
   "cell_type": "code",
   "execution_count": null,
   "id": "italian-florist",
   "metadata": {},
   "outputs": [],
   "source": [
    "class Date:\n",
    "    \"\"\"\n",
    "    Your docstring here.\n",
    "    \"\"\"\n",
    "    \n",
    "    def __init__(self, month, day, year):\n",
    "        \"\"\"\n",
    "        Your docstring here.\n",
    "        \"\"\"\n",
    "        pass\n",
    "    \n",
    "    def __repr__(self):\n",
    "        \"\"\"\n",
    "        Your docstring here.\n",
    "        \"\"\"\n",
    "        pass\n",
    "    \n",
    "    def is_leap_year(self):\n",
    "        \"\"\"\n",
    "        Your docstring here.\n",
    "        \"\"\"\n",
    "        pass\n",
    "    \n",
    "    def is_valid_date(self):\n",
    "        \"\"\"\n",
    "        Your docstring here.\n",
    "        \"\"\"\n",
    "        pass"
   ]
  },
  {
   "cell_type": "markdown",
   "id": "black-provider",
   "metadata": {},
   "source": [
    "As you go through each part of this exercise, you will write and test one part of the `Date` class. By writing your own class, you will have effectively added a new type in Python that you can use in your programs.\n",
    "\n",
    "### 1.1. Starting with `__init__`\n",
    "\n",
    "![A joke about init](init.jpg)\n",
    "\n",
    "Implement the [`__init__` method](https://softdes.olin.edu/docs/readings/5-classes-interface-design/#the-__init__-method) for the `Date` class. As a reminder, the `__init__` method (called a *constructor* in many other programming languages) is used to create a new *instance* of a `Date`, that is, an object that represents a specific date.\n",
    "\n",
    "This takes integers representing a month, day, and year and stores them in the class instance. Specifically, the method assigns the values of `month` to `self.month`, and similarly with other parameters. This sets the *instance attributes* of the `Date` instance, that is, variables that belong to and live within a specific date.\n",
    "\n",
    "You should also write a brief docstring for this method in the space indicated.\n",
    "\n",
    "When you have done this, you should be able to see the correct information by running the following code cell."
   ]
  },
  {
   "cell_type": "code",
   "execution_count": null,
   "id": "informed-survivor",
   "metadata": {},
   "outputs": [],
   "source": [
    "# December 24, 1991 - release of Python 0.9.4.\n",
    "python_release = Date(12, 24, 1991)\n",
    "\n",
    "print(f\"The month is {python_release.month}\")\n",
    "print(f\"The day is {python_release.day}\")\n",
    "print(f\"The year is {python_release.year}\")"
   ]
  },
  {
   "cell_type": "markdown",
   "id": "ethical-forty",
   "metadata": {},
   "source": [
    "### 1.2. Dates, Represent!\n",
    "\n",
    "Implement the [`__repr__` method](https://softdes.olin.edu/docs/readings/5-classes-interface-design/#the-__repr__-method) for the `Date` class. This method is used to determine what happens when you call the `print` function on a `Date` instance, and returns a string. You should return the date as month/day/year, so January 20, 2021 would be printed as `1/20/2021`.\n",
    "\n",
    "Again, write a brief docstring for this method in the space provided.\n",
    "\n",
    "When you have done this, you should be able to re-run the cell above containing the class code, and then print a date using the following code cell."
   ]
  },
  {
   "cell_type": "code",
   "execution_count": null,
   "id": "rental-tutorial",
   "metadata": {},
   "outputs": [],
   "source": [
    "# March 14, 2021 - the most recent Pi Day\n",
    "pi_day = Date(3, 14, 2021)\n",
    "\n",
    "print(f\"Pi Day is {pi_day}\")"
   ]
  },
  {
   "cell_type": "markdown",
   "id": "sealed-bobby",
   "metadata": {},
   "source": [
    "### 1.3. Leaping into More Methods\n",
    "\n",
    "It can sometimes be helpful to calculate whether or not a date is in a leap year. A year divisible by 4 is *usually* a leap year, but there are exceptions:\n",
    "\n",
    "> Every year that is exactly divisible by four is a leap year, except for years that are exactly divisible by 100, but these centurial years are leap years if they are exactly divisible by 400. For example, the years 1700, 1800, and 1900 are not leap years, but the years 1600 and 2000 are.\n",
    "\n",
    "Implement the `is_leap_year` method for the `Date` class, which returns `True` if the year stored by the `Date` instance is in a leap year and `False` otherwise. (You do not need to check whether the date is otherwise valid for now.) Write a brief docstring for this method as well.\n",
    "\n",
    "When you have done this, you should be able to re-run the cell above containing the class code, and then run the following cell to check whether leap years are correctly calculated."
   ]
  },
  {
   "cell_type": "code",
   "execution_count": null,
   "id": "prerequisite-sucking",
   "metadata": {},
   "outputs": [],
   "source": [
    "def check_leap_year(date):\n",
    "    \"\"\"\n",
    "    Print whether a date is a leap year or not.\n",
    "    \n",
    "    Args:\n",
    "        date: A Date instance representing the date to check.\n",
    "    \"\"\"\n",
    "    if date.is_leap_year():\n",
    "        print(f\"{date} is a leap year\")\n",
    "    else:\n",
    "        print(f\"{date} isn't a leap year\")\n",
    "        \n",
    "\n",
    "recent_leap_date = Date(1, 1, 2020)\n",
    "check_leap_year(recent_leap_date)\n",
    "\n",
    "recent_non_leap = Date(1, 1, 2021)\n",
    "check_leap_year(recent_non_leap)\n",
    "\n",
    "century_leap_date = Date(1, 1, 1600)\n",
    "check_leap_year(century_leap_date)\n",
    "\n",
    "century_non_leap = Date(1, 1, 1700)\n",
    "check_leap_year(century_non_leap)\n",
    "\n",
    "future_non_leap = Date(1, 1, 2200)\n",
    "check_leap_year(future_non_leap)"
   ]
  },
  {
   "cell_type": "markdown",
   "id": "applicable-usage",
   "metadata": {},
   "source": [
    "### 1.4. Thirty Days Hath September\n",
    "\n",
    "At the moment, there is no checking of the actual date values you use to create a `Date` instance, so you could create a \"date\" that doesn't make sense, like January 100th. Or this:\n",
    "\n",
    "![December 32, 2020](2020.jpg)\n",
    "\n",
    "As a first step in fixing this issue, we will create a variable used to keep track of how many days each month has. Since the number of days in a month is the same, we can share this variable across all `Date` instances. We can create a [*class attribute*](https://softdes.olin.edu/docs/readings/5-classes-interface-design/#class-attributes) to do this, which is a variable that belongs to the `Date` class as a whole, rather than to a specific date.\n",
    "\n",
    "Create a dictionary called `days` in the `Date` class as a class attribute. (See the reading for how to do this.) This dictionary should map each month's value (e.g., `1` for January or `2` for February) to the number of days the month has (`31` for January and `28` for February). You do not need to count leap years, so February should have 28 days.\n",
    "\n",
    "To remember how many days are in each month, you could use the following rhyme:\n",
    "\n",
    "> Thirty days hath September,  \n",
    "> April, June, and November,  \n",
    "> All the rest have thirty-one,  \n",
    "> But February's twenty-eight,  \n",
    "> The leap year, which comes once in four,  \n",
    "> Gives February one day more. \n",
    "\n",
    "When you have done this, the following code cell should print out the correct number of days in each month:"
   ]
  },
  {
   "cell_type": "code",
   "execution_count": null,
   "id": "blank-minneapolis",
   "metadata": {},
   "outputs": [],
   "source": [
    "print(f\"January has {Date.days[1]} days\")\n",
    "print(f\"February has {Date.days[2]} days\")\n",
    "print(f\"March has {Date.days[3]}b days\")\n",
    "print(f\"April has {Date.days[4]} days\")\n",
    "print(f\"May has {Date.days[5]} days\")\n",
    "print(f\"June has {Date.days[6]} days\")\n",
    "print(f\"July has {Date.days[7]} days\")\n",
    "print(f\"August has {Date.days[8]} days\")\n",
    "print(f\"September has {Date.days[9]} days\")\n",
    "print(f\"October has {Date.days[10]} days\")\n",
    "print(f\"November has {Date.days[11]} days\")\n",
    "print(f\"December has {Date.days[12]} days\")"
   ]
  },
  {
   "cell_type": "markdown",
   "id": "statistical-hazard",
   "metadata": {},
   "source": [
    "### 1.5. Let's ValiDATE\n",
    "\n",
    "With all of this built up, we can now write a method to check whether a date is valid. Implement the `is_valid_date` method in the `Date` class. This should check whether the month is between 1 and 12 (inclusive) and whether the day is between 1 and the number of days in that month. For leap years, make sure that February is considered to have 29 days.\n",
    "\n",
    "When you have done this, running the following code cell should correctly print whether each date is valid or not."
   ]
  },
  {
   "cell_type": "code",
   "execution_count": null,
   "id": "driven-flight",
   "metadata": {},
   "outputs": [],
   "source": [
    "def check_valid(date):\n",
    "    \"\"\"\n",
    "    Print whether a date is valid or not.\n",
    "    \n",
    "    Args:\n",
    "        date: A Date instance representing the date to check.\n",
    "    \"\"\"\n",
    "    if date.is_valid_date():\n",
    "        print(f\"{date} is a valid date\")\n",
    "    else:\n",
    "        print(f\"{date} isn't a valid date\")\n",
    "\n",
    "\n",
    "# Standard valid date.        \n",
    "check_valid(Date(1, 1, 2000))\n",
    "\n",
    "# Standard invalid date.\n",
    "check_valid(Date(1, 32, 2000))\n",
    "\n",
    "# Leap day in a non-leap year.\n",
    "check_valid(Date(2, 29, 2001))\n",
    "\n",
    "# Leap day in a leap year.\n",
    "check_valid(Date(2, 29, 2000))\n",
    "\n",
    "# Leap day in centurial non-leap year.\n",
    "check_valid(Date(2, 29, 1800))\n",
    "\n",
    "# Invalid date on a month with 30 days.\n",
    "check_valid(Date(4, 31, 2020))\n",
    "\n",
    "# Negative year (should be valid).\n",
    "check_valid(Date(3, 14, -4))\n",
    "\n",
    "# Negative month.\n",
    "check_valid(Date(-4, 2, 2001))\n",
    "\n",
    "# Negative day.\n",
    "check_valid(Date(1, -1, 2001))"
   ]
  },
  {
   "cell_type": "markdown",
   "id": "instant-walnut",
   "metadata": {},
   "source": [
    "### 1.6. Document the `Date`\n",
    "\n",
    "To finish off this exercise, write a [class docstring](https://softdes.olin.edu/docs/readings/5-classes-interface-design/#class-docstrings) for `Date`. This should contain a brief description of the class and what it represents, as well as a list of each attribute (both class and instance attributes), along with its type and what it stands for.\n",
    "\n",
    "Once you have done this, you are all set for this exercise!"
   ]
  },
  {
   "cell_type": "markdown",
   "id": "exclusive-paragraph",
   "metadata": {},
   "source": [
    "## 2. Tic-Tac\n",
    "\n",
    "In this next exercise, you will get started in designing a class to represent a tic-tac-toe game. For this exercise, you do not need to write any code, but sketching out some code for yourself will be very helpful, as you will need to implement this game for the assignment.\n",
    "\n",
    "A game of tic-tac-toe mostly involves the following operations:\n",
    "\n",
    "* Set up a new game of tic-tac-toe.\n",
    "* Print out the current state of the board.\n",
    "* Figure out who the next player to move is (X or O).\n",
    "* Mark a square with the current player's symbol.\n",
    "* Check whether a player has won or not.\n",
    "\n",
    "These operations can be combined to run a full game. In code, the class would look like this (and this the starter code you will be given for the assignment):\n",
    "\n",
    "```python\n",
    "class TicTacToeBoard:\n",
    "\n",
    "    def __init__(self):\n",
    "        pass\n",
    "\n",
    "    def __repr__(self):\n",
    "        pass\n",
    "\n",
    "    def next_move(self):\n",
    "        pass\n",
    "\n",
    "    def mark(self, row, col):\n",
    "        pass\n",
    "\n",
    "    def check_win(self, player):\n",
    "        pass\n",
    "```\n",
    "\n",
    "Answer each of the following short questions below. (There are quite a few, but they all require relatively short answers.)\n",
    "\n",
    "### 2.1. First Player\n",
    "\n",
    "Which player will go first, `X` or `O`?"
   ]
  },
  {
   "cell_type": "markdown",
   "id": "deadly-induction",
   "metadata": {},
   "source": [
    "#### Solution\n",
    "\n",
    "Your solution goes here."
   ]
  },
  {
   "cell_type": "markdown",
   "id": "casual-marker",
   "metadata": {},
   "source": [
    "### 2.2. Board Format\n",
    "\n",
    "How will you represent the squares of the board? Specifically, what type will you use to represent the squares, and why?"
   ]
  },
  {
   "cell_type": "markdown",
   "id": "negative-alberta",
   "metadata": {},
   "source": [
    "#### Solution\n",
    "\n",
    "Your solution goes here."
   ]
  },
  {
   "cell_type": "markdown",
   "id": "royal-switch",
   "metadata": {},
   "source": [
    "### 2.3. Symbols\n",
    "\n",
    "How will you represent each player's symbol (`X` or `O`)? What about a blank square?"
   ]
  },
  {
   "cell_type": "markdown",
   "id": "needed-machine",
   "metadata": {},
   "source": [
    "#### Solution\n",
    "\n",
    "Your solution goes here."
   ]
  },
  {
   "cell_type": "markdown",
   "id": "given-pixel",
   "metadata": {},
   "source": [
    "### 2.4. Next Move\n",
    "\n",
    "How will you determine which player is the next to move? Describe your approach in whatever way is easiest for you to express (you can use code, but you don't have to)."
   ]
  },
  {
   "cell_type": "markdown",
   "id": "answering-dealer",
   "metadata": {},
   "source": [
    "#### Solution\n",
    "\n",
    "Your solution goes here."
   ]
  },
  {
   "cell_type": "markdown",
   "id": "apparent-mattress",
   "metadata": {},
   "source": [
    "### 2.5. Attributes\n",
    "\n",
    "So far, you have a few attributes to consider in your class:\n",
    "\n",
    "* The board\n",
    "* The next player to move\n",
    "* The symbol of each player\n",
    "* The symbol to represent a blank square\n",
    "\n",
    "Which of these attributes will be [public or private](https://softdes.olin.edu/docs/readings/5-classes-interface-design/#private-or-public-attributes)? Why?\n",
    "\n",
    "Which of these attributes will be [class attributes](https://softdes.olin.edu/docs/readings/5-classes-interface-design/#class-attributes) instead of instance attributes? Why?"
   ]
  },
  {
   "cell_type": "markdown",
   "id": "western-makeup",
   "metadata": {},
   "source": [
    "#### Solution\n",
    "\n",
    "Your solution goes here."
   ]
  },
  {
   "cell_type": "markdown",
   "id": "outdoor-madison",
   "metadata": {},
   "source": [
    "### 2.6. Valid and Invalid Moves\n",
    "\n",
    "How will you determine if an attempted move in the game is valid or invalid?"
   ]
  },
  {
   "cell_type": "markdown",
   "id": "dominant-patent",
   "metadata": {},
   "source": [
    "#### Solution\n",
    "\n",
    "Your solution goes here."
   ]
  },
  {
   "cell_type": "markdown",
   "id": "hollow-walnut",
   "metadata": {},
   "source": [
    "### 2.7. Determining a Horizontal Win\n",
    "\n",
    "Note that your answers for Questions 2.7-2.9 should depend on the format you chose for your board in Question 2.2.\n",
    "\n",
    "How will you determine whether or not a player has won in the horizontal case? Visually, a board in this state might look like this:\n",
    "\n",
    "```\n",
    "+-+-+-+\n",
    "| | | |\n",
    "+-+-+-+\n",
    "|X|X|X|\n",
    "+-+-+-+\n",
    "| | | |\n",
    "+-+-+-+\n",
    "```\n",
    "\n",
    "Describe your approach in whatever way is easiest for you to express (you can use code, but you don't have to)."
   ]
  },
  {
   "cell_type": "markdown",
   "id": "exact-driver",
   "metadata": {},
   "source": [
    "#### Solution\n",
    "\n",
    "Your solution goes here."
   ]
  },
  {
   "cell_type": "markdown",
   "id": "sharp-connection",
   "metadata": {},
   "source": [
    "### 2.8. Determining a Vertical Win\n",
    "\n",
    "How will you determing whether or not a player has won in the vertical case? Visually a board in this state might look like this:\n",
    "\n",
    "```\n",
    "+-+-+-+\n",
    "| |O| |\n",
    "+-+-+-+\n",
    "|X|O|X|\n",
    "+-+-+-+\n",
    "| |O| |\n",
    "+-+-+-+\n",
    "```\n",
    "\n",
    "Describe your approach in whatever way is easiest for you to express (you can use code, but you don't have to)."
   ]
  },
  {
   "cell_type": "markdown",
   "id": "supreme-orlando",
   "metadata": {},
   "source": [
    "#### Solution\n",
    "\n",
    "Your solution goes here."
   ]
  },
  {
   "cell_type": "markdown",
   "id": "quarterly-buying",
   "metadata": {},
   "source": [
    "### 2.9. Determining a Diagonal Win\n",
    "\n",
    "How will you determing whether or not a player has won in the diagonal case? Visually a board in this state might look like this:\n",
    "\n",
    "```\n",
    "+-+-+-+\n",
    "|X|O| |\n",
    "+-+-+-+\n",
    "|O|X|O|\n",
    "+-+-+-+\n",
    "| |O|X|\n",
    "+-+-+-+\n",
    "```\n",
    "\n",
    "Describe your approach in whatever way is easiest for you to express (you can use code, but you don't have to)."
   ]
  },
  {
   "cell_type": "markdown",
   "id": "alternate-shirt",
   "metadata": {},
   "source": [
    "#### Solution\n",
    "\n",
    "Your solution goes here."
   ]
  }
 ],
 "metadata": {
  "kernelspec": {
   "display_name": "Python 3",
   "language": "python",
   "name": "python3"
  },
  "language_info": {
   "codemirror_mode": {
    "name": "ipython",
    "version": 3
   },
   "file_extension": ".py",
   "mimetype": "text/x-python",
   "name": "python",
   "nbconvert_exporter": "python",
   "pygments_lexer": "ipython3",
   "version": "3.9.2"
  }
 },
 "nbformat": 4,
 "nbformat_minor": 5
}
