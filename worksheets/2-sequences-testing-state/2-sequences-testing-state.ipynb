{
 "cells": [
  {
   "cell_type": "markdown",
   "metadata": {},
   "source": [
    "# Worksheet 2"
   ]
  },
  {
   "cell_type": "code",
   "execution_count": null,
   "metadata": {},
   "outputs": [],
   "source": [
    "import matplotlib.pyplot as plt\n",
    "%matplotlib inline"
   ]
  },
  {
   "cell_type": "markdown",
   "metadata": {},
   "source": [
    "## 1. Fun with Lists\n",
    "\n",
    "In Reading 2, you learned about lists in Python. Here are a few questions and problems to help you get better acquainted with lists.\n",
    "\n",
    "### 1.1. Ordering in Lists\n",
    "\n",
    "Does order matter in lists? In other words, is the list `[\"Alice\", \"Bob\", \"Charlie\"]` equal to `[\"Alice\", \"Charlie\", \"Bob\"]`?\n",
    "\n",
    "In what circumstances would you want these two to be considered equal? In what circumstances would you not want them to be considered equal? (For these problems, you don't have to answer in terms of programming specifically - just listing applications or problems in which these two should or shouldn't be considered equal is fine.) Write your thoughts in the cell below:"
   ]
  },
  {
   "cell_type": "markdown",
   "metadata": {},
   "source": [
    "(write your thoughts here)"
   ]
  },
  {
   "cell_type": "markdown",
   "metadata": {},
   "source": [
    "### 1.2. List Palindromes\n",
    "\n",
    "In the cell below, implement the function `is_palindrome`, which checks whether or not a list is a palindrome or not."
   ]
  },
  {
   "cell_type": "code",
   "execution_count": null,
   "metadata": {},
   "outputs": [],
   "source": [
    "def is_palindrome(iterable):\n",
    "    \"\"\"\n",
    "    Check whether or not a list is a palindrome (i.e., has the same sequence\n",
    "    of values forwards or backwards).\n",
    "    \n",
    "    Args:\n",
    "        iterable: A list to check.\n",
    "        \n",
    "    Returns:\n",
    "        True if iterable is a palindrome, and false otherwise.\n",
    "    \"\"\"\n",
    "    # Replace this line and your code with the implementation.\n",
    "    pass"
   ]
  },
  {
   "cell_type": "markdown",
   "metadata": {},
   "source": [
    "There are at least two significantly different ways to implement this function. Try writing this function both ways, or discussing with your classmates to compare the pros and cons of each approach."
   ]
  },
  {
   "cell_type": "markdown",
   "metadata": {},
   "source": [
    "### 1.3. List of Characters\n",
    "\n",
    "In the cell below, implement the function split_into_characters, which takes a string and turns it into a list of its characters, in order. (If you know the `split` function, you should not use it here.)"
   ]
  },
  {
   "cell_type": "code",
   "execution_count": null,
   "metadata": {},
   "outputs": [],
   "source": [
    "def split_into_characters(text):\n",
    "    \"\"\"\n",
    "    Split a string into a list of characters.\n",
    "    \n",
    "    Args:\n",
    "        text: A string representing the text to split into characters.\n",
    "        \n",
    "    Returns:\n",
    "        A list of one-character strings representing the letters of text, in\n",
    "        order.\n",
    "    \"\"\"\n",
    "    # Replace this line and your code with the implementation.\n",
    "    pass"
   ]
  },
  {
   "cell_type": "markdown",
   "metadata": {},
   "source": [
    "As with the palindromes exercise, there are several ways to do implement this function. We encourage you to try multiple ways for yourself or compare your approach with those of your classmates."
   ]
  },
  {
   "cell_type": "markdown",
   "metadata": {},
   "source": [
    "## 2. Fizzbuzz\n",
    "\n",
    "With just two weeks of SoftDes under your belt, you already have enough knowledge of Python to tackle a common programming interview problem called FizzBuzz. This is based on the children's game of the same name, where players take turns counting upwards. As they do so, if the number they are counting is divisible by 3 (such as 9), they say \"Fizz\" instead of the number, and if it is divisible by 5 (such as 10), they say \"Buzz\" instead. If the number is divisible by both 3 and 5 (such as 15), they say \"Fizz Buzz\" instead of the number. In this problem, you will write a function that plays this game by itself, printing out the numbers or some combination of the words \"Fizz\" and \"Buzz\" as it counts up.\n",
    "\n",
    "Below, you will find the start of a function called `fizzbuzz` that prints out the first $n$ numbers (starting at 1) in the style of a Fizz Buzz game, with one number per line. The function should count up from 1 to $n$ **inclusive**, and for each number should do the following:\n",
    "\n",
    "* If the number isn't divisible by 3 or 5, just print the number.\n",
    "* If the number is divisible by 3 and not 5, print `Fizz`.\n",
    "* If the number is divisible by 5 and not 3, print `Buzz`.\n",
    "* If the number is divisible by both, print `FizzBuzz`.\n",
    "\n",
    "Be sure to write a docstring with your function."
   ]
  },
  {
   "cell_type": "code",
   "execution_count": null,
   "metadata": {},
   "outputs": [],
   "source": [
    "def fizzbuzz(n):\n",
    "    \"\"\"\n",
    "    Replace this line with your docstring\n",
    "    \"\"\"\n",
    "    pass"
   ]
  },
  {
   "cell_type": "markdown",
   "metadata": {},
   "source": [
    "Once you have implemented this function, you can check that it is behaving roughly as you expect by running the testing cell below. For example, running `fizzbuzz(15)` should print out **exactly** the following:\n",
    "\n",
    "```\n",
    "1\n",
    "2\n",
    "Fizz\n",
    "4\n",
    "Buzz\n",
    "Fizz\n",
    "7\n",
    "8\n",
    "Fizz\n",
    "Buzz\n",
    "11\n",
    "Fizz\n",
    "13\n",
    "14\n",
    "FizzBuzz\n",
    "```"
   ]
  },
  {
   "cell_type": "code",
   "execution_count": null,
   "metadata": {},
   "outputs": [],
   "source": [
    "# Feel free to change the following line as needed for testing.\n",
    "fizzbuzz(15)"
   ]
  },
  {
   "cell_type": "markdown",
   "metadata": {},
   "source": [
    "### Challenge: More Efficient FizzBuzz\n",
    "\n",
    "If you have written the function above with four conditional statements (`if`, `elif`, or `else`), try to challenge yourself and see if you can write it with three. With a bit of cleverness, you can come up with some neat techniques to implement this function a bit more cleanly than using conditional statements for each possible case. (There are multiple ways to write this function with three conditionals, all of which have some element of cleverness, so do some exploring and see what you can come up with!)"
   ]
  },
  {
   "cell_type": "markdown",
   "metadata": {},
   "source": [
    "## 3. List à la Mode\n",
    "\n",
    "In this problem, you will be exploring unit testing through the problem of finding the *mode* of a list - the element that occurs most frequently. In doing so, you will get the chance to practice *test-driven development*, a workflow sometimes used in software engineering.\n",
    "\n",
    "### 3.1. Unit Testing Mode\n",
    "\n",
    "In test-driven development, you write unit tests *before* you write your actual code. In the file `test_list_mode.py`, you will find some starter code for your unit tests, as well as one unit test to get you started. Open this file in VSCode. \n",
    "\n",
    "Add at least four more substantially different tests (i.e., testing for different things, rather than testing effectively the same behavior with different lists), with each test being one function. Remember that each function should have a name that starts with `test_` to make sure that Pytest finds it automatically.\n",
    "\n",
    "In each function's docstring, write what your unit testing is checking for (this can be brief).\n",
    "\n",
    "As you go through this process, you may find yourself asking questions about what the function should return in specific situations. Feel free to discuss these questions with those you are working with, or to argue what the function should return and why."
   ]
  },
  {
   "cell_type": "markdown",
   "metadata": {},
   "source": [
    "### 3.2. Implementation Mode\n",
    "\n",
    "If you run your unit tests now, you should find that most of all of them fail. This is to be expected - you haven't written any code yet!\n",
    "\n",
    "Now you can fix that - in the `list_mode.py` file, you should see a function to implement. Fill in the implementation for this function, adjusting your code as necessary until the unit tests you wrote in the earlier section pass.\n",
    "\n",
    "As with the other functions you have seen in this worksheet, there are multiple ways that you can implement this function, though the assumptions you made as you wrote your unit tests may affect which of these specific ways can work. You may find that the [List Methods](https://softdes.olin.edu/docs/readings/2-sequences-testing-state/#list-methods) section of Reading 2 is helpful as you write your function."
   ]
  },
  {
   "cell_type": "markdown",
   "metadata": {},
   "source": [
    "### 3.3. Discussion/Reflection\n",
    "\n",
    "On your own or with a few others, discuss the following questions:\n",
    "\n",
    "1. When writing unit tests, what assumptions did you make about the behavior of `mode`? How did these assumptions affect your design or implementation of `mode`?\n",
    "2. Are there any cases or behaviors in `mode` that you feel you did not cover with your unit tests? If so, what unit tests might you add?\n",
    "3. How certain are you that your implementation is correct? Why or why not?\n",
    "\n",
    "Write your thoughts on these questions in the cell below."
   ]
  },
  {
   "cell_type": "markdown",
   "metadata": {},
   "source": [
    "(write your thoughts here)"
   ]
  },
  {
   "cell_type": "markdown",
   "metadata": {},
   "source": [
    "## 4. Sorting Things Out\n",
    "\n",
    "Sorting lists of integers is a common problem in introductory computing courses, as it highlights different ways of approaching a rather simply stated problem. There are many known sorting algorithms today, each with their own tradeoffs among specific cases, performance requirements, and ease of understanding. If you want to spend the next few minutes being mesmerized by visualizations of various sorting algorithms, take a look at this [GIF album](https://imgur.com/gallery/voutF) on Imgur.\n",
    "\n",
    "Now that your life is a bit more colorful than it was a few minutes ago, let's consider a related problem: how do you check whether or not a list is already sorted? One way to do this is as follows: make a copy of the list and sort it. If this now-sorted copy of the list is identical to the original, then the list must have been sorted to begin with. In this problem, you will spend a bit of time testing and exploring an implementation of this approach in Python.\n",
    "\n",
    "### 4.1. A Strange Sort of Test\n",
    "\n",
    "The file `sort_check.py` contains an implementation of the previous approach to checking whether a list is sorted, and the file `test_sort_check.py` contains a unit test to check the `is_sorted` function.\n",
    "\n",
    "In the `test_sort_check.py` file, add at least three additional unit tests that are reasonably different from each other. Make sure that each test function has a name beginning with `test_` and has a docstring that briefly explains what is being tested."
   ]
  },
  {
   "cell_type": "markdown",
   "metadata": {},
   "source": [
    "### 4.2. The State (and Stack) of Affairs\n",
    "\n",
    "If you haven't done so already, run your unit tests and see what results you get. If you have written a wide enough range of unit tests, you should have at least one failing test.\n",
    "\n",
    "If you take a look at your unit tests' failure messages, you should see something peculiar - `is_sorted` always returns `True`. Something is going on, but what?\n",
    "\n",
    "To find this out, you should try constructing a state/stack diagram for this function as it runs. You can do this by loading your code into [Python Tutor](http://pythontutor.com/) and trying it with a test case, or you can track the state of the function manually, using a pen and paper or some note-taking system on your machine. While using Python Tutor is almost certainly faster, learning to track program state manually is a valuable skill (especially if you learn a language without the equivalent of a tool like Python Tutor).\n",
    "\n",
    "Once you have explored the state of the function and determined the cause of the error, report your findings in the cell below. If you can, take a screenshot of your state/stack diagram at a point in the code's execution that highlights the error, and include it in your solution."
   ]
  },
  {
   "cell_type": "markdown",
   "metadata": {},
   "source": [
    "(write your thoughts here)"
   ]
  },
  {
   "cell_type": "markdown",
   "metadata": {},
   "source": [
    "**Solution** The problem is that the line `copy = list_` does not actually make a copy of the list, as can be seen in [Python Tutor](http://pythontutor.com/visualize.html#code=def%20is_sorted%28list_%29%3A%0A%20%20%20%20%22%22%22%0A%20%20%20%20Check%20whether%20a%20list%20is%20sorted%20or%20not.%0A%0A%20%20%20%20Args%3A%0A%20%20%20%20%20%20%20%20list_%3A%20A%20list%20to%20check%20for%20being%20sorted%20or%20not.%0A%0A%20%20%20%20Returns%3A%0A%20%20%20%20%20%20%20%20True%20if%20list_%20is%20sorted,%20and%20False%20otherwise.%0A%20%20%20%20%22%22%22%0A%20%20%20%20copy%20%3D%20list_%0A%20%20%20%20copy.sort%28%29%0A%20%20%20%20return%20list_%20%3D%3D%20copy%0A%0A%0Ais_sorted%28%5B3,%201,%204,%201,%205,%209%5D%29&cumulative=false&curInstr=4&heapPrimitives=nevernest&mode=display&origin=opt-frontend.js&py=3&rawInputLstJSON=%5B%5D&textReferences=false). As a result, when we sort `copy`, we sort the original list as well, resulting in the two always being considered equal, and `is_sorted` thus always returns `True`."
   ]
  },
  {
   "cell_type": "markdown",
   "metadata": {},
   "source": [
    "## 5. The Collatz Conjecture\n",
    "\n",
    "The Collatz conjecture is an unsolved problem in mathematics that is somewhat surprising. The problem statement is short and to the point, but there is no known conclusive proof for an answer one way or another.\n",
    "\n",
    "The problem focuses on the *Collatz sequence*, which goes as follows:\n",
    "\n",
    "1. Pick any positive integer $n$.\n",
    "2. If the number $n$ is even, divide it by two. If $n$ is odd, triple it and add one.\n",
    "3. Use the result as the new value of $n$, and repeat step 2.\n",
    "\n",
    "It seems likely that for any positive integer $n$, this sequence will eventually reach a value of 1, but this has not been proven. There has been a great deal of interest in how many \"steps\" this sequence takes to reach 1 for different numbers, however. In this problem, you will write a bit of code to explore the oddities of the Collatz conjecture in more detail.\n",
    "\n",
    "### 5.1. Implement the Collatz Sequence\n",
    "\n",
    "To start, implement the function `collatz` below, which follows the three steps above until it reaches 1, and counts the number of \"steps\" (i.e., the number of times that n is changed) until it arrives at 1."
   ]
  },
  {
   "cell_type": "code",
   "execution_count": null,
   "metadata": {},
   "outputs": [],
   "source": [
    "def collatz(n):\n",
    "    \"\"\"\n",
    "    Calculate the number of steps in the Collatz sequence for the given number.\n",
    "    \n",
    "    Args:\n",
    "        A positive integer representing the number of start from.\n",
    "    \n",
    "    Returns:\n",
    "        An int representing the number of times the value of n is changed\n",
    "        before arriving at 1.\n",
    "    \"\"\"\n",
    "    pass"
   ]
  },
  {
   "cell_type": "markdown",
   "metadata": {},
   "source": [
    "### 5.2. The Plot Thickens\n",
    "\n",
    "Once you have implemented this function, you can create some neat plots of how many steps various numbers take.\n",
    "\n",
    "To do this, we have provided some helper code. In the cell below, first replace the indicated line to create a list of how many \"steps\" each starting value takes in the Collatz sequence to reach 1.\n",
    "\n",
    "Then, try adjusting `test_values` to your liking, and run the cell to generate your very own plot. (Try not to immediately set the list to a huge set of numbers, as this may cause your machine or VM to run rather slowly.) Once you have tried a few plots of your own, feel free to take a look at the [Wikipedia page](https://en.wikipedia.org/wiki/Collatz_conjecture) for the Collatz conjecture, which contains various visualizations related to this interesting problem."
   ]
  },
  {
   "cell_type": "code",
   "execution_count": null,
   "metadata": {},
   "outputs": [],
   "source": [
    "# Define your set of inputs below.\n",
    "test_values = list(range(1, 11))\n",
    "\n",
    "# Get the number of steps in the Collatz sequence for each number.\n",
    "collatz_steps = test_values  # Replace this line with your code.\n",
    "\n",
    "# Helper code. Don't change this.\n",
    "plt.plot(test_values, collatz_steps, \".\")\n",
    "plt.xlabel(\"Starting value\")\n",
    "plt.ylabel(\"Number of steps to 1\")"
   ]
  }
 ],
 "metadata": {
  "kernelspec": {
   "display_name": "Python 3",
   "language": "python",
   "name": "python3"
  },
  "language_info": {
   "codemirror_mode": {
    "name": "ipython",
    "version": 3
   },
   "file_extension": ".py",
   "mimetype": "text/x-python",
   "name": "python",
   "nbconvert_exporter": "python",
   "pygments_lexer": "ipython3",
   "version": "3.9.1"
  }
 },
 "nbformat": 4,
 "nbformat_minor": 4
}
